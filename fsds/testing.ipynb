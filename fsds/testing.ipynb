{
 "nbformat": 4,
 "nbformat_minor": 2,
 "metadata": {
  "language_info": {
   "name": "python",
   "version": "3.8.5",
   "mimetype": "text/x-python",
   "codemirror_mode": {
    "name": "ipython",
    "version": 3
   },
   "pygments_lexer": "ipython3",
   "nbconvert_exporter": "python",
   "file_extension": ".py"
  },
  "orig_nbformat": 2,
  "file_extension": ".py",
  "mimetype": "text/x-python",
  "name": "python",
  "npconvert_exporter": "python",
  "pygments_lexer": "ipython3",
  "version": 3,
  "kernelspec": {
   "name": "python3",
   "display_name": "Python 3.8.5 64-bit ('learn-env': conda)"
  },
  "interpreter": {
   "hash": "c15d3b161d9e31d3c14101c293414707f40e59d6cae0bbd6b708ca3d1e942f6f"
  }
 },
 "cells": [
  {
   "cell_type": "code",
   "execution_count": null,
   "source": [],
   "outputs": [],
   "metadata": {}
  },
  {
   "cell_type": "code",
   "execution_count": 1,
   "source": [
    "from imports import *\n"
   ],
   "outputs": [
    {
     "output_type": "display_data",
     "data": {
      "text/html": [
       "<style  type=\"text/css\" >\n",
       "</style><table id=\"T_7e6d775c_10d8_11ec_a795_acde48001122\" ><caption>Loaded Packages & Info</caption><thead>    <tr>        <th class=\"col_heading level0 col0\" >Package</th>        <th class=\"col_heading level0 col1\" >Handle</th>        <th class=\"col_heading level0 col2\" >Version</th>        <th class=\"col_heading level0 col3\" >Documentation</th>        <th class=\"col_heading level0 col4\" >Imported</th>    </tr></thead><tbody>\n",
       "                <tr>\n",
       "                                <td id=\"T_7e6d775c_10d8_11ec_a795_acde48001122row0_col0\" class=\"data row0 col0\" >pandas</td>\n",
       "                        <td id=\"T_7e6d775c_10d8_11ec_a795_acde48001122row0_col1\" class=\"data row0 col1\" >pd</td>\n",
       "                        <td id=\"T_7e6d775c_10d8_11ec_a795_acde48001122row0_col2\" class=\"data row0 col2\" >1.1.3</td>\n",
       "                        <td id=\"T_7e6d775c_10d8_11ec_a795_acde48001122row0_col3\" class=\"data row0 col3\" ><a href=\"https://pandas.pydata.org/docs/\">https://pandas.pydata.org/docs/</a></td>\n",
       "                        <td id=\"T_7e6d775c_10d8_11ec_a795_acde48001122row0_col4\" class=\"data row0 col4\" >Y</td>\n",
       "            </tr>\n",
       "            <tr>\n",
       "                                <td id=\"T_7e6d775c_10d8_11ec_a795_acde48001122row1_col0\" class=\"data row1 col0\" >fsds</td>\n",
       "                        <td id=\"T_7e6d775c_10d8_11ec_a795_acde48001122row1_col1\" class=\"data row1 col1\" >fs</td>\n",
       "                        <td id=\"T_7e6d775c_10d8_11ec_a795_acde48001122row1_col2\" class=\"data row1 col2\" >!</td>\n",
       "                        <td id=\"T_7e6d775c_10d8_11ec_a795_acde48001122row1_col3\" class=\"data row1 col3\" ><a href=\"https://fs-ds.readthedocs.io/en/latest/\">https://fs-ds.readthedocs.io/en/latest/</a></td>\n",
       "                        <td id=\"T_7e6d775c_10d8_11ec_a795_acde48001122row1_col4\" class=\"data row1 col4\" >Y</td>\n",
       "            </tr>\n",
       "            <tr>\n",
       "                                <td id=\"T_7e6d775c_10d8_11ec_a795_acde48001122row2_col0\" class=\"data row2 col0\" >numpy</td>\n",
       "                        <td id=\"T_7e6d775c_10d8_11ec_a795_acde48001122row2_col1\" class=\"data row2 col1\" >np</td>\n",
       "                        <td id=\"T_7e6d775c_10d8_11ec_a795_acde48001122row2_col2\" class=\"data row2 col2\" >1.19.5</td>\n",
       "                        <td id=\"T_7e6d775c_10d8_11ec_a795_acde48001122row2_col3\" class=\"data row2 col3\" ><a href=\"https://numpy.org/doc/stable/reference/\">https://numpy.org/doc/stable/reference/</a></td>\n",
       "                        <td id=\"T_7e6d775c_10d8_11ec_a795_acde48001122row2_col4\" class=\"data row2 col4\" >Y</td>\n",
       "            </tr>\n",
       "            <tr>\n",
       "                                <td id=\"T_7e6d775c_10d8_11ec_a795_acde48001122row3_col0\" class=\"data row3 col0\" >matplotlib</td>\n",
       "                        <td id=\"T_7e6d775c_10d8_11ec_a795_acde48001122row3_col1\" class=\"data row3 col1\" >mpl</td>\n",
       "                        <td id=\"T_7e6d775c_10d8_11ec_a795_acde48001122row3_col2\" class=\"data row3 col2\" >3.3.1</td>\n",
       "                        <td id=\"T_7e6d775c_10d8_11ec_a795_acde48001122row3_col3\" class=\"data row3 col3\" ><a href=\"https://matplotlib.org/stable/api/index.html\">https://matplotlib.org/stable/api/index.html</a></td>\n",
       "                        <td id=\"T_7e6d775c_10d8_11ec_a795_acde48001122row3_col4\" class=\"data row3 col4\" >Y</td>\n",
       "            </tr>\n",
       "            <tr>\n",
       "                                <td id=\"T_7e6d775c_10d8_11ec_a795_acde48001122row4_col0\" class=\"data row4 col0\" >matplotlib.pyplot</td>\n",
       "                        <td id=\"T_7e6d775c_10d8_11ec_a795_acde48001122row4_col1\" class=\"data row4 col1\" >plt</td>\n",
       "                        <td id=\"T_7e6d775c_10d8_11ec_a795_acde48001122row4_col2\" class=\"data row4 col2\" ></td>\n",
       "                        <td id=\"T_7e6d775c_10d8_11ec_a795_acde48001122row4_col3\" class=\"data row4 col3\" ><a href=\"https://matplotlib.org/stable/api/_as_gen/matplotlib.pyplot.html#module-matplotlib.pyplot\">https://matplotlib.org/stable/api/_as_gen/matplotlib.pyplot.html#module-matplotlib.pyplot</a></td>\n",
       "                        <td id=\"T_7e6d775c_10d8_11ec_a795_acde48001122row4_col4\" class=\"data row4 col4\" >Y</td>\n",
       "            </tr>\n",
       "            <tr>\n",
       "                                <td id=\"T_7e6d775c_10d8_11ec_a795_acde48001122row5_col0\" class=\"data row5 col0\" >seaborn</td>\n",
       "                        <td id=\"T_7e6d775c_10d8_11ec_a795_acde48001122row5_col1\" class=\"data row5 col1\" >sns</td>\n",
       "                        <td id=\"T_7e6d775c_10d8_11ec_a795_acde48001122row5_col2\" class=\"data row5 col2\" >0.11.0</td>\n",
       "                        <td id=\"T_7e6d775c_10d8_11ec_a795_acde48001122row5_col3\" class=\"data row5 col3\" ><a href=\"https://seaborn.pydata.org/api.html\">https://seaborn.pydata.org/api.html</a></td>\n",
       "                        <td id=\"T_7e6d775c_10d8_11ec_a795_acde48001122row5_col4\" class=\"data row5 col4\" >Y</td>\n",
       "            </tr>\n",
       "            <tr>\n",
       "                                <td id=\"T_7e6d775c_10d8_11ec_a795_acde48001122row6_col0\" class=\"data row6 col0\" >IPython.display</td>\n",
       "                        <td id=\"T_7e6d775c_10d8_11ec_a795_acde48001122row6_col1\" class=\"data row6 col1\" >dp</td>\n",
       "                        <td id=\"T_7e6d775c_10d8_11ec_a795_acde48001122row6_col2\" class=\"data row6 col2\" ></td>\n",
       "                        <td id=\"T_7e6d775c_10d8_11ec_a795_acde48001122row6_col3\" class=\"data row6 col3\" ><a href=\"https://ipython.readthedocs.io/en/stable/api/generated/IPython.display.html\">https://ipython.readthedocs.io/en/stable/api/generated/IPython.display.html</a></td>\n",
       "                        <td id=\"T_7e6d775c_10d8_11ec_a795_acde48001122row6_col4\" class=\"data row6 col4\" >Y</td>\n",
       "            </tr>\n",
       "            <tr>\n",
       "                                <td id=\"T_7e6d775c_10d8_11ec_a795_acde48001122row7_col0\" class=\"data row7 col0\" >sklearn</td>\n",
       "                        <td id=\"T_7e6d775c_10d8_11ec_a795_acde48001122row7_col1\" class=\"data row7 col1\" ></td>\n",
       "                        <td id=\"T_7e6d775c_10d8_11ec_a795_acde48001122row7_col2\" class=\"data row7 col2\" >0.23.2</td>\n",
       "                        <td id=\"T_7e6d775c_10d8_11ec_a795_acde48001122row7_col3\" class=\"data row7 col3\" ><a href=\"\"></a></td>\n",
       "                        <td id=\"T_7e6d775c_10d8_11ec_a795_acde48001122row7_col4\" class=\"data row7 col4\" >N</td>\n",
       "            </tr>\n",
       "    </tbody></table>"
      ],
      "text/plain": [
       "<pandas.io.formats.style.Styler at 0x7f88e7919310>"
      ]
     },
     "metadata": {}
    }
   ],
   "metadata": {}
  },
  {
   "cell_type": "code",
   "execution_count": 5,
   "source": [
    "\n",
    "import imports as imp\n",
    "pkgs = imp.import_packages()"
   ],
   "outputs": [
    {
     "output_type": "display_data",
     "data": {
      "text/html": [
       "<style  type=\"text/css\" >\n",
       "</style><table id=\"T_8defaef8_10d7_11ec_8f32_acde48001122\" ><caption>Loaded Packages & Info</caption><thead>    <tr>        <th class=\"col_heading level0 col0\" >import</th>        <th class=\"col_heading level0 col1\" >as</th>        <th class=\"col_heading level0 col2\" >Version</th>        <th class=\"col_heading level0 col3\" >Documentation</th>    </tr></thead><tbody>\n",
       "                <tr>\n",
       "                                <td id=\"T_8defaef8_10d7_11ec_8f32_acde48001122row0_col0\" class=\"data row0 col0\" >pandas</td>\n",
       "                        <td id=\"T_8defaef8_10d7_11ec_8f32_acde48001122row0_col1\" class=\"data row0 col1\" >pd</td>\n",
       "                        <td id=\"T_8defaef8_10d7_11ec_8f32_acde48001122row0_col2\" class=\"data row0 col2\" >1.1.3</td>\n",
       "                        <td id=\"T_8defaef8_10d7_11ec_8f32_acde48001122row0_col3\" class=\"data row0 col3\" ><a href=\"https://pandas.pydata.org/docs/\">https://pandas.pydata.org/docs/</a></td>\n",
       "            </tr>\n",
       "            <tr>\n",
       "                                <td id=\"T_8defaef8_10d7_11ec_8f32_acde48001122row1_col0\" class=\"data row1 col0\" >fsds</td>\n",
       "                        <td id=\"T_8defaef8_10d7_11ec_8f32_acde48001122row1_col1\" class=\"data row1 col1\" >fs</td>\n",
       "                        <td id=\"T_8defaef8_10d7_11ec_8f32_acde48001122row1_col2\" class=\"data row1 col2\" >!</td>\n",
       "                        <td id=\"T_8defaef8_10d7_11ec_8f32_acde48001122row1_col3\" class=\"data row1 col3\" ><a href=\"https://fs-ds.readthedocs.io/en/latest/\">https://fs-ds.readthedocs.io/en/latest/</a></td>\n",
       "            </tr>\n",
       "            <tr>\n",
       "                                <td id=\"T_8defaef8_10d7_11ec_8f32_acde48001122row2_col0\" class=\"data row2 col0\" >numpy</td>\n",
       "                        <td id=\"T_8defaef8_10d7_11ec_8f32_acde48001122row2_col1\" class=\"data row2 col1\" >np</td>\n",
       "                        <td id=\"T_8defaef8_10d7_11ec_8f32_acde48001122row2_col2\" class=\"data row2 col2\" >1.19.5</td>\n",
       "                        <td id=\"T_8defaef8_10d7_11ec_8f32_acde48001122row2_col3\" class=\"data row2 col3\" ><a href=\"https://numpy.org/doc/stable/reference/\">https://numpy.org/doc/stable/reference/</a></td>\n",
       "            </tr>\n",
       "            <tr>\n",
       "                                <td id=\"T_8defaef8_10d7_11ec_8f32_acde48001122row3_col0\" class=\"data row3 col0\" >matplotlib</td>\n",
       "                        <td id=\"T_8defaef8_10d7_11ec_8f32_acde48001122row3_col1\" class=\"data row3 col1\" >mpl</td>\n",
       "                        <td id=\"T_8defaef8_10d7_11ec_8f32_acde48001122row3_col2\" class=\"data row3 col2\" >3.3.1</td>\n",
       "                        <td id=\"T_8defaef8_10d7_11ec_8f32_acde48001122row3_col3\" class=\"data row3 col3\" ><a href=\"https://matplotlib.org/stable/api/index.html\">https://matplotlib.org/stable/api/index.html</a></td>\n",
       "            </tr>\n",
       "            <tr>\n",
       "                                <td id=\"T_8defaef8_10d7_11ec_8f32_acde48001122row4_col0\" class=\"data row4 col0\" >matplotlib.pyplot</td>\n",
       "                        <td id=\"T_8defaef8_10d7_11ec_8f32_acde48001122row4_col1\" class=\"data row4 col1\" >plt</td>\n",
       "                        <td id=\"T_8defaef8_10d7_11ec_8f32_acde48001122row4_col2\" class=\"data row4 col2\" > - </td>\n",
       "                        <td id=\"T_8defaef8_10d7_11ec_8f32_acde48001122row4_col3\" class=\"data row4 col3\" ><a href=\"https://matplotlib.org/stable/api/_as_gen/matplotlib.pyplot.html#module-matplotlib.pyplot\">https://matplotlib.org/stable/api/_as_gen/matplotlib.pyplot.html#module-matplotlib.pyplot</a></td>\n",
       "            </tr>\n",
       "            <tr>\n",
       "                                <td id=\"T_8defaef8_10d7_11ec_8f32_acde48001122row5_col0\" class=\"data row5 col0\" >seaborn</td>\n",
       "                        <td id=\"T_8defaef8_10d7_11ec_8f32_acde48001122row5_col1\" class=\"data row5 col1\" >sns</td>\n",
       "                        <td id=\"T_8defaef8_10d7_11ec_8f32_acde48001122row5_col2\" class=\"data row5 col2\" >0.11.0</td>\n",
       "                        <td id=\"T_8defaef8_10d7_11ec_8f32_acde48001122row5_col3\" class=\"data row5 col3\" ><a href=\"https://seaborn.pydata.org/api.html\">https://seaborn.pydata.org/api.html</a></td>\n",
       "            </tr>\n",
       "            <tr>\n",
       "                                <td id=\"T_8defaef8_10d7_11ec_8f32_acde48001122row6_col0\" class=\"data row6 col0\" >IPython.display</td>\n",
       "                        <td id=\"T_8defaef8_10d7_11ec_8f32_acde48001122row6_col1\" class=\"data row6 col1\" >dp</td>\n",
       "                        <td id=\"T_8defaef8_10d7_11ec_8f32_acde48001122row6_col2\" class=\"data row6 col2\" > - </td>\n",
       "                        <td id=\"T_8defaef8_10d7_11ec_8f32_acde48001122row6_col3\" class=\"data row6 col3\" ><a href=\"https://ipython.readthedocs.io/en/stable/api/generated/IPython.display.html\">https://ipython.readthedocs.io/en/stable/api/generated/IPython.display.html</a></td>\n",
       "            </tr>\n",
       "            <tr>\n",
       "                                <td id=\"T_8defaef8_10d7_11ec_8f32_acde48001122row7_col0\" class=\"data row7 col0\" >sklearn</td>\n",
       "                        <td id=\"T_8defaef8_10d7_11ec_8f32_acde48001122row7_col1\" class=\"data row7 col1\" > - </td>\n",
       "                        <td id=\"T_8defaef8_10d7_11ec_8f32_acde48001122row7_col2\" class=\"data row7 col2\" >0.23.2</td>\n",
       "                        <td id=\"T_8defaef8_10d7_11ec_8f32_acde48001122row7_col3\" class=\"data row7 col3\" ><a href=\" - \"> - </a></td>\n",
       "            </tr>\n",
       "    </tbody></table>"
      ],
      "text/plain": [
       "<pandas.io.formats.style.Styler at 0x7fa3f92708e0>"
      ]
     },
     "metadata": {}
    }
   ],
   "metadata": {}
  },
  {
   "cell_type": "code",
   "execution_count": 6,
   "source": [
    "pkgs = imp.import_packages()\n"
   ],
   "outputs": [
    {
     "output_type": "display_data",
     "data": {
      "text/html": [
       "<style  type=\"text/css\" >\n",
       "</style><table id=\"T_8df646e6_10d7_11ec_8f32_acde48001122\" ><caption>Loaded Packages & Info</caption><thead>    <tr>        <th class=\"col_heading level0 col0\" >import</th>        <th class=\"col_heading level0 col1\" >as</th>        <th class=\"col_heading level0 col2\" >Version</th>        <th class=\"col_heading level0 col3\" >Documentation</th>    </tr></thead><tbody>\n",
       "                <tr>\n",
       "                                <td id=\"T_8df646e6_10d7_11ec_8f32_acde48001122row0_col0\" class=\"data row0 col0\" >pandas</td>\n",
       "                        <td id=\"T_8df646e6_10d7_11ec_8f32_acde48001122row0_col1\" class=\"data row0 col1\" >pd</td>\n",
       "                        <td id=\"T_8df646e6_10d7_11ec_8f32_acde48001122row0_col2\" class=\"data row0 col2\" >1.1.3</td>\n",
       "                        <td id=\"T_8df646e6_10d7_11ec_8f32_acde48001122row0_col3\" class=\"data row0 col3\" ><a href=\"https://pandas.pydata.org/docs/\">https://pandas.pydata.org/docs/</a></td>\n",
       "            </tr>\n",
       "            <tr>\n",
       "                                <td id=\"T_8df646e6_10d7_11ec_8f32_acde48001122row1_col0\" class=\"data row1 col0\" >fsds</td>\n",
       "                        <td id=\"T_8df646e6_10d7_11ec_8f32_acde48001122row1_col1\" class=\"data row1 col1\" >fs</td>\n",
       "                        <td id=\"T_8df646e6_10d7_11ec_8f32_acde48001122row1_col2\" class=\"data row1 col2\" >!</td>\n",
       "                        <td id=\"T_8df646e6_10d7_11ec_8f32_acde48001122row1_col3\" class=\"data row1 col3\" ><a href=\"https://fs-ds.readthedocs.io/en/latest/\">https://fs-ds.readthedocs.io/en/latest/</a></td>\n",
       "            </tr>\n",
       "            <tr>\n",
       "                                <td id=\"T_8df646e6_10d7_11ec_8f32_acde48001122row2_col0\" class=\"data row2 col0\" >numpy</td>\n",
       "                        <td id=\"T_8df646e6_10d7_11ec_8f32_acde48001122row2_col1\" class=\"data row2 col1\" >np</td>\n",
       "                        <td id=\"T_8df646e6_10d7_11ec_8f32_acde48001122row2_col2\" class=\"data row2 col2\" >1.19.5</td>\n",
       "                        <td id=\"T_8df646e6_10d7_11ec_8f32_acde48001122row2_col3\" class=\"data row2 col3\" ><a href=\"https://numpy.org/doc/stable/reference/\">https://numpy.org/doc/stable/reference/</a></td>\n",
       "            </tr>\n",
       "            <tr>\n",
       "                                <td id=\"T_8df646e6_10d7_11ec_8f32_acde48001122row3_col0\" class=\"data row3 col0\" >matplotlib</td>\n",
       "                        <td id=\"T_8df646e6_10d7_11ec_8f32_acde48001122row3_col1\" class=\"data row3 col1\" >mpl</td>\n",
       "                        <td id=\"T_8df646e6_10d7_11ec_8f32_acde48001122row3_col2\" class=\"data row3 col2\" >3.3.1</td>\n",
       "                        <td id=\"T_8df646e6_10d7_11ec_8f32_acde48001122row3_col3\" class=\"data row3 col3\" ><a href=\"https://matplotlib.org/stable/api/index.html\">https://matplotlib.org/stable/api/index.html</a></td>\n",
       "            </tr>\n",
       "            <tr>\n",
       "                                <td id=\"T_8df646e6_10d7_11ec_8f32_acde48001122row4_col0\" class=\"data row4 col0\" >matplotlib.pyplot</td>\n",
       "                        <td id=\"T_8df646e6_10d7_11ec_8f32_acde48001122row4_col1\" class=\"data row4 col1\" >plt</td>\n",
       "                        <td id=\"T_8df646e6_10d7_11ec_8f32_acde48001122row4_col2\" class=\"data row4 col2\" > - </td>\n",
       "                        <td id=\"T_8df646e6_10d7_11ec_8f32_acde48001122row4_col3\" class=\"data row4 col3\" ><a href=\"https://matplotlib.org/stable/api/_as_gen/matplotlib.pyplot.html#module-matplotlib.pyplot\">https://matplotlib.org/stable/api/_as_gen/matplotlib.pyplot.html#module-matplotlib.pyplot</a></td>\n",
       "            </tr>\n",
       "            <tr>\n",
       "                                <td id=\"T_8df646e6_10d7_11ec_8f32_acde48001122row5_col0\" class=\"data row5 col0\" >seaborn</td>\n",
       "                        <td id=\"T_8df646e6_10d7_11ec_8f32_acde48001122row5_col1\" class=\"data row5 col1\" >sns</td>\n",
       "                        <td id=\"T_8df646e6_10d7_11ec_8f32_acde48001122row5_col2\" class=\"data row5 col2\" >0.11.0</td>\n",
       "                        <td id=\"T_8df646e6_10d7_11ec_8f32_acde48001122row5_col3\" class=\"data row5 col3\" ><a href=\"https://seaborn.pydata.org/api.html\">https://seaborn.pydata.org/api.html</a></td>\n",
       "            </tr>\n",
       "            <tr>\n",
       "                                <td id=\"T_8df646e6_10d7_11ec_8f32_acde48001122row6_col0\" class=\"data row6 col0\" >IPython.display</td>\n",
       "                        <td id=\"T_8df646e6_10d7_11ec_8f32_acde48001122row6_col1\" class=\"data row6 col1\" >dp</td>\n",
       "                        <td id=\"T_8df646e6_10d7_11ec_8f32_acde48001122row6_col2\" class=\"data row6 col2\" > - </td>\n",
       "                        <td id=\"T_8df646e6_10d7_11ec_8f32_acde48001122row6_col3\" class=\"data row6 col3\" ><a href=\"https://ipython.readthedocs.io/en/stable/api/generated/IPython.display.html\">https://ipython.readthedocs.io/en/stable/api/generated/IPython.display.html</a></td>\n",
       "            </tr>\n",
       "            <tr>\n",
       "                                <td id=\"T_8df646e6_10d7_11ec_8f32_acde48001122row7_col0\" class=\"data row7 col0\" >sklearn</td>\n",
       "                        <td id=\"T_8df646e6_10d7_11ec_8f32_acde48001122row7_col1\" class=\"data row7 col1\" > - </td>\n",
       "                        <td id=\"T_8df646e6_10d7_11ec_8f32_acde48001122row7_col2\" class=\"data row7 col2\" >0.23.2</td>\n",
       "                        <td id=\"T_8df646e6_10d7_11ec_8f32_acde48001122row7_col3\" class=\"data row7 col3\" ><a href=\" - \"> - </a></td>\n",
       "            </tr>\n",
       "    </tbody></table>"
      ],
      "text/plain": [
       "<pandas.io.formats.style.Styler at 0x7fa3f929ec10>"
      ]
     },
     "metadata": {}
    }
   ],
   "metadata": {}
  },
  {
   "cell_type": "code",
   "execution_count": 7,
   "source": [
    "import os\n",
    "# Function to convert file path into clickable form.\n",
    "def clickable(path,label=None):\n",
    "    \"\"\"Source: https://www.geeksforgeeks.org/how-to-create-a-table-with-clickable-hyperlink-to-a-local-file-in-pandas/\"\"\"\n",
    "    # returns the final component of a url\n",
    "    # f_url = os.path.basename(path)\n",
    "    if label is None:\n",
    "    # convert the url into link\n",
    "        return '<a href=\"{}\">{}</a>'.format(path, path)\n",
    "    else: \n",
    "        return '<a href=\"{}\">{}</a>'.format(path, label)"
   ],
   "outputs": [],
   "metadata": {}
  },
  {
   "cell_type": "code",
   "execution_count": 8,
   "source": [
    "\n",
    "pkgs.style.format({'Documentation':clickable})"
   ],
   "outputs": [
    {
     "output_type": "error",
     "ename": "AttributeError",
     "evalue": "'NoneType' object has no attribute 'style'",
     "traceback": [
      "\u001b[0;31m---------------------------------------------------------------------------\u001b[0m",
      "\u001b[0;31mAttributeError\u001b[0m                            Traceback (most recent call last)",
      "\u001b[0;32m<ipython-input-8-cdd1a11d376b>\u001b[0m in \u001b[0;36m<module>\u001b[0;34m\u001b[0m\n\u001b[0;32m----> 1\u001b[0;31m \u001b[0mpkgs\u001b[0m\u001b[0;34m.\u001b[0m\u001b[0mstyle\u001b[0m\u001b[0;34m.\u001b[0m\u001b[0mformat\u001b[0m\u001b[0;34m(\u001b[0m\u001b[0;34m{\u001b[0m\u001b[0;34m'Documentation'\u001b[0m\u001b[0;34m:\u001b[0m\u001b[0mclickable\u001b[0m\u001b[0;34m}\u001b[0m\u001b[0;34m)\u001b[0m\u001b[0;34m\u001b[0m\u001b[0;34m\u001b[0m\u001b[0m\n\u001b[0m",
      "\u001b[0;31mAttributeError\u001b[0m: 'NoneType' object has no attribute 'style'"
     ]
    }
   ],
   "metadata": {}
  },
  {
   "cell_type": "code",
   "execution_count": null,
   "source": [
    "\n",
    "pkgs.style.format({'Documentation':lambda x: clickable(x,\"link\")})"
   ],
   "outputs": [
    {
     "output_type": "execute_result",
     "data": {
      "text/html": [
       "<style  type=\"text/css\" >\n",
       "</style><table id=\"T_669d60a0_10cf_11ec_ab2e_acde48001122\" ><thead>    <tr>        <th class=\"blank level0\" ></th>        <th class=\"col_heading level0 col0\" >Package</th>        <th class=\"col_heading level0 col1\" >Handle</th>        <th class=\"col_heading level0 col2\" >Version</th>        <th class=\"col_heading level0 col3\" >Documentation</th>    </tr></thead><tbody>\n",
       "                <tr>\n",
       "                        <th id=\"T_669d60a0_10cf_11ec_ab2e_acde48001122level0_row0\" class=\"row_heading level0 row0\" >0</th>\n",
       "                        <td id=\"T_669d60a0_10cf_11ec_ab2e_acde48001122row0_col0\" class=\"data row0 col0\" >pandas</td>\n",
       "                        <td id=\"T_669d60a0_10cf_11ec_ab2e_acde48001122row0_col1\" class=\"data row0 col1\" >pd</td>\n",
       "                        <td id=\"T_669d60a0_10cf_11ec_ab2e_acde48001122row0_col2\" class=\"data row0 col2\" >1.1.3</td>\n",
       "                        <td id=\"T_669d60a0_10cf_11ec_ab2e_acde48001122row0_col3\" class=\"data row0 col3\" ><a href=\"https://pandas.pydata.org/docs/\">link</a></td>\n",
       "            </tr>\n",
       "            <tr>\n",
       "                        <th id=\"T_669d60a0_10cf_11ec_ab2e_acde48001122level0_row1\" class=\"row_heading level0 row1\" >1</th>\n",
       "                        <td id=\"T_669d60a0_10cf_11ec_ab2e_acde48001122row1_col0\" class=\"data row1 col0\" >fsds</td>\n",
       "                        <td id=\"T_669d60a0_10cf_11ec_ab2e_acde48001122row1_col1\" class=\"data row1 col1\" >fs</td>\n",
       "                        <td id=\"T_669d60a0_10cf_11ec_ab2e_acde48001122row1_col2\" class=\"data row1 col2\" >ERROR</td>\n",
       "                        <td id=\"T_669d60a0_10cf_11ec_ab2e_acde48001122row1_col3\" class=\"data row1 col3\" ><a href=\"https://fs-ds.readthedocs.io/en/latest/\">link</a></td>\n",
       "            </tr>\n",
       "            <tr>\n",
       "                        <th id=\"T_669d60a0_10cf_11ec_ab2e_acde48001122level0_row2\" class=\"row_heading level0 row2\" >2</th>\n",
       "                        <td id=\"T_669d60a0_10cf_11ec_ab2e_acde48001122row2_col0\" class=\"data row2 col0\" >numpy</td>\n",
       "                        <td id=\"T_669d60a0_10cf_11ec_ab2e_acde48001122row2_col1\" class=\"data row2 col1\" >np</td>\n",
       "                        <td id=\"T_669d60a0_10cf_11ec_ab2e_acde48001122row2_col2\" class=\"data row2 col2\" >1.19.5</td>\n",
       "                        <td id=\"T_669d60a0_10cf_11ec_ab2e_acde48001122row2_col3\" class=\"data row2 col3\" ><a href=\"https://numpy.org/doc/stable/reference/\">link</a></td>\n",
       "            </tr>\n",
       "            <tr>\n",
       "                        <th id=\"T_669d60a0_10cf_11ec_ab2e_acde48001122level0_row3\" class=\"row_heading level0 row3\" >3</th>\n",
       "                        <td id=\"T_669d60a0_10cf_11ec_ab2e_acde48001122row3_col0\" class=\"data row3 col0\" >matplotlib</td>\n",
       "                        <td id=\"T_669d60a0_10cf_11ec_ab2e_acde48001122row3_col1\" class=\"data row3 col1\" >mpl</td>\n",
       "                        <td id=\"T_669d60a0_10cf_11ec_ab2e_acde48001122row3_col2\" class=\"data row3 col2\" >3.3.1</td>\n",
       "                        <td id=\"T_669d60a0_10cf_11ec_ab2e_acde48001122row3_col3\" class=\"data row3 col3\" ><a href=\"https://matplotlib.org/stable/api/index.html\">link</a></td>\n",
       "            </tr>\n",
       "            <tr>\n",
       "                        <th id=\"T_669d60a0_10cf_11ec_ab2e_acde48001122level0_row4\" class=\"row_heading level0 row4\" >4</th>\n",
       "                        <td id=\"T_669d60a0_10cf_11ec_ab2e_acde48001122row4_col0\" class=\"data row4 col0\" >matplotlib.pyplot</td>\n",
       "                        <td id=\"T_669d60a0_10cf_11ec_ab2e_acde48001122row4_col1\" class=\"data row4 col1\" >plt</td>\n",
       "                        <td id=\"T_669d60a0_10cf_11ec_ab2e_acde48001122row4_col2\" class=\"data row4 col2\" > - </td>\n",
       "                        <td id=\"T_669d60a0_10cf_11ec_ab2e_acde48001122row4_col3\" class=\"data row4 col3\" ><a href=\"https://matplotlib.org/stable/api/_as_gen/matplotlib.pyplot.html#module-matplotlib.pyplot\">link</a></td>\n",
       "            </tr>\n",
       "            <tr>\n",
       "                        <th id=\"T_669d60a0_10cf_11ec_ab2e_acde48001122level0_row5\" class=\"row_heading level0 row5\" >5</th>\n",
       "                        <td id=\"T_669d60a0_10cf_11ec_ab2e_acde48001122row5_col0\" class=\"data row5 col0\" >seaborn</td>\n",
       "                        <td id=\"T_669d60a0_10cf_11ec_ab2e_acde48001122row5_col1\" class=\"data row5 col1\" >sns</td>\n",
       "                        <td id=\"T_669d60a0_10cf_11ec_ab2e_acde48001122row5_col2\" class=\"data row5 col2\" >0.11.0</td>\n",
       "                        <td id=\"T_669d60a0_10cf_11ec_ab2e_acde48001122row5_col3\" class=\"data row5 col3\" ><a href=\"https://seaborn.pydata.org/api.html\">link</a></td>\n",
       "            </tr>\n",
       "            <tr>\n",
       "                        <th id=\"T_669d60a0_10cf_11ec_ab2e_acde48001122level0_row6\" class=\"row_heading level0 row6\" >6</th>\n",
       "                        <td id=\"T_669d60a0_10cf_11ec_ab2e_acde48001122row6_col0\" class=\"data row6 col0\" >IPython.display</td>\n",
       "                        <td id=\"T_669d60a0_10cf_11ec_ab2e_acde48001122row6_col1\" class=\"data row6 col1\" >dp</td>\n",
       "                        <td id=\"T_669d60a0_10cf_11ec_ab2e_acde48001122row6_col2\" class=\"data row6 col2\" > - </td>\n",
       "                        <td id=\"T_669d60a0_10cf_11ec_ab2e_acde48001122row6_col3\" class=\"data row6 col3\" ><a href=\"https://ipython.readthedocs.io/en/stable/api/generated/IPython.display.html\">link</a></td>\n",
       "            </tr>\n",
       "            <tr>\n",
       "                        <th id=\"T_669d60a0_10cf_11ec_ab2e_acde48001122level0_row7\" class=\"row_heading level0 row7\" >7</th>\n",
       "                        <td id=\"T_669d60a0_10cf_11ec_ab2e_acde48001122row7_col0\" class=\"data row7 col0\" >sklearn</td>\n",
       "                        <td id=\"T_669d60a0_10cf_11ec_ab2e_acde48001122row7_col1\" class=\"data row7 col1\" > - </td>\n",
       "                        <td id=\"T_669d60a0_10cf_11ec_ab2e_acde48001122row7_col2\" class=\"data row7 col2\" >0.23.2</td>\n",
       "                        <td id=\"T_669d60a0_10cf_11ec_ab2e_acde48001122row7_col3\" class=\"data row7 col3\" ><a href=\" - \">link</a></td>\n",
       "            </tr>\n",
       "    </tbody></table>"
      ],
      "text/plain": [
       "<pandas.io.formats.style.Styler at 0x7fd240f7f580>"
      ]
     },
     "metadata": {},
     "execution_count": 58
    }
   ],
   "metadata": {}
  },
  {
   "cell_type": "code",
   "execution_count": null,
   "source": [
    "# pkgs.style.format({\"Documentation\":fun})"
   ],
   "outputs": [],
   "metadata": {}
  },
  {
   "cell_type": "code",
   "execution_count": null,
   "source": [
    "pkgs['Link'] = pkgs[\"Documentation\"].map(lambda x: f'<a href=\"{x}\">link</a>') #f\"[Link]({x})\")\n",
    "print(pkgs.loc[0,'Link'])"
   ],
   "outputs": [
    {
     "output_type": "stream",
     "name": "stdout",
     "text": [
      "<a href=\"https://pandas.pydata.org/docs/\">link</a>\n"
     ]
    }
   ],
   "metadata": {}
  },
  {
   "cell_type": "markdown",
   "source": [
    "'<a href=\"{}\">{}</a>'.format(path, f_url)"
   ],
   "metadata": {}
  },
  {
   "cell_type": "code",
   "execution_count": null,
   "source": [
    "print('<a href=\"https://pandas.pydata.org/docs/\">Link</a>')"
   ],
   "outputs": [
    {
     "output_type": "stream",
     "name": "stdout",
     "text": [
      "<a href=\"https://pandas.pydata.org/docs/\">Link</a>\n"
     ]
    }
   ],
   "metadata": {}
  },
  {
   "cell_type": "code",
   "execution_count": null,
   "source": [
    "\n",
    "import inspect\n",
    "inspect.getfile(pd)"
   ],
   "outputs": [],
   "metadata": {}
  },
  {
   "cell_type": "markdown",
   "source": [
    "# Teasting "
   ],
   "metadata": {}
  },
  {
   "cell_type": "code",
   "execution_count": null,
   "source": [
    "from imports import *"
   ],
   "outputs": [
    {
     "output_type": "display_data",
     "data": {
      "text/html": [
       "<style  type=\"text/css\" >\n",
       "</style><table id=\"T_94c07506_10d1_11ec_9d80_acde48001122\" ><caption>Loaded Packages & Info</caption><thead>    <tr>        <th class=\"col_heading level0 col0\" >import</th>        <th class=\"col_heading level0 col1\" >as</th>        <th class=\"col_heading level0 col2\" >Documentation</th>        <th class=\"col_heading level0 col3\" >Version</th>    </tr></thead><tbody>\n",
       "                <tr>\n",
       "                                <td id=\"T_94c07506_10d1_11ec_9d80_acde48001122row0_col0\" class=\"data row0 col0\" >pandas</td>\n",
       "                        <td id=\"T_94c07506_10d1_11ec_9d80_acde48001122row0_col1\" class=\"data row0 col1\" >pd</td>\n",
       "                        <td id=\"T_94c07506_10d1_11ec_9d80_acde48001122row0_col2\" class=\"data row0 col2\" ><a href=\"https://pandas.pydata.org/docs/\">https://pandas.pydata.org/docs/</a></td>\n",
       "                        <td id=\"T_94c07506_10d1_11ec_9d80_acde48001122row0_col3\" class=\"data row0 col3\" >1.1.3</td>\n",
       "            </tr>\n",
       "            <tr>\n",
       "                                <td id=\"T_94c07506_10d1_11ec_9d80_acde48001122row1_col0\" class=\"data row1 col0\" >fsds</td>\n",
       "                        <td id=\"T_94c07506_10d1_11ec_9d80_acde48001122row1_col1\" class=\"data row1 col1\" >fs</td>\n",
       "                        <td id=\"T_94c07506_10d1_11ec_9d80_acde48001122row1_col2\" class=\"data row1 col2\" ><a href=\"https://fs-ds.readthedocs.io/en/latest/\">https://fs-ds.readthedocs.io/en/latest/</a></td>\n",
       "                        <td id=\"T_94c07506_10d1_11ec_9d80_acde48001122row1_col3\" class=\"data row1 col3\" >[!]</td>\n",
       "            </tr>\n",
       "            <tr>\n",
       "                                <td id=\"T_94c07506_10d1_11ec_9d80_acde48001122row2_col0\" class=\"data row2 col0\" >numpy</td>\n",
       "                        <td id=\"T_94c07506_10d1_11ec_9d80_acde48001122row2_col1\" class=\"data row2 col1\" >np</td>\n",
       "                        <td id=\"T_94c07506_10d1_11ec_9d80_acde48001122row2_col2\" class=\"data row2 col2\" ><a href=\"https://numpy.org/doc/stable/reference/\">https://numpy.org/doc/stable/reference/</a></td>\n",
       "                        <td id=\"T_94c07506_10d1_11ec_9d80_acde48001122row2_col3\" class=\"data row2 col3\" >1.19.5</td>\n",
       "            </tr>\n",
       "            <tr>\n",
       "                                <td id=\"T_94c07506_10d1_11ec_9d80_acde48001122row3_col0\" class=\"data row3 col0\" >matplotlib</td>\n",
       "                        <td id=\"T_94c07506_10d1_11ec_9d80_acde48001122row3_col1\" class=\"data row3 col1\" >mpl</td>\n",
       "                        <td id=\"T_94c07506_10d1_11ec_9d80_acde48001122row3_col2\" class=\"data row3 col2\" ><a href=\"https://matplotlib.org/stable/api/index.html\">https://matplotlib.org/stable/api/index.html</a></td>\n",
       "                        <td id=\"T_94c07506_10d1_11ec_9d80_acde48001122row3_col3\" class=\"data row3 col3\" >3.3.1</td>\n",
       "            </tr>\n",
       "            <tr>\n",
       "                                <td id=\"T_94c07506_10d1_11ec_9d80_acde48001122row4_col0\" class=\"data row4 col0\" >matplotlib.pyplot</td>\n",
       "                        <td id=\"T_94c07506_10d1_11ec_9d80_acde48001122row4_col1\" class=\"data row4 col1\" >plt</td>\n",
       "                        <td id=\"T_94c07506_10d1_11ec_9d80_acde48001122row4_col2\" class=\"data row4 col2\" ><a href=\"https://matplotlib.org/stable/api/_as_gen/matplotlib.pyplot.html#module-matplotlib.pyplot\">https://matplotlib.org/stable/api/_as_gen/matplotlib.pyplot.html#module-matplotlib.pyplot</a></td>\n",
       "                        <td id=\"T_94c07506_10d1_11ec_9d80_acde48001122row4_col3\" class=\"data row4 col3\" > - </td>\n",
       "            </tr>\n",
       "            <tr>\n",
       "                                <td id=\"T_94c07506_10d1_11ec_9d80_acde48001122row5_col0\" class=\"data row5 col0\" >seaborn</td>\n",
       "                        <td id=\"T_94c07506_10d1_11ec_9d80_acde48001122row5_col1\" class=\"data row5 col1\" >sns</td>\n",
       "                        <td id=\"T_94c07506_10d1_11ec_9d80_acde48001122row5_col2\" class=\"data row5 col2\" ><a href=\"https://seaborn.pydata.org/api.html\">https://seaborn.pydata.org/api.html</a></td>\n",
       "                        <td id=\"T_94c07506_10d1_11ec_9d80_acde48001122row5_col3\" class=\"data row5 col3\" >0.11.0</td>\n",
       "            </tr>\n",
       "            <tr>\n",
       "                                <td id=\"T_94c07506_10d1_11ec_9d80_acde48001122row6_col0\" class=\"data row6 col0\" >IPython.display</td>\n",
       "                        <td id=\"T_94c07506_10d1_11ec_9d80_acde48001122row6_col1\" class=\"data row6 col1\" >dp</td>\n",
       "                        <td id=\"T_94c07506_10d1_11ec_9d80_acde48001122row6_col2\" class=\"data row6 col2\" ><a href=\"https://ipython.readthedocs.io/en/stable/api/generated/IPython.display.html\">https://ipython.readthedocs.io/en/stable/api/generated/IPython.display.html</a></td>\n",
       "                        <td id=\"T_94c07506_10d1_11ec_9d80_acde48001122row6_col3\" class=\"data row6 col3\" > - </td>\n",
       "            </tr>\n",
       "            <tr>\n",
       "                                <td id=\"T_94c07506_10d1_11ec_9d80_acde48001122row7_col0\" class=\"data row7 col0\" >sklearn</td>\n",
       "                        <td id=\"T_94c07506_10d1_11ec_9d80_acde48001122row7_col1\" class=\"data row7 col1\" > - </td>\n",
       "                        <td id=\"T_94c07506_10d1_11ec_9d80_acde48001122row7_col2\" class=\"data row7 col2\" ><a href=\" - \"> - </a></td>\n",
       "                        <td id=\"T_94c07506_10d1_11ec_9d80_acde48001122row7_col3\" class=\"data row7 col3\" >0.23.2</td>\n",
       "            </tr>\n",
       "    </tbody></table>"
      ],
      "text/plain": [
       "<pandas.io.formats.style.Styler at 0x7fcf8186c1c0>"
      ]
     },
     "metadata": {}
    }
   ],
   "metadata": {}
  },
  {
   "cell_type": "code",
   "execution_count": null,
   "source": [
    "import fsds\n",
    "fsds.__version__"
   ],
   "outputs": [
    {
     "output_type": "error",
     "ename": "AttributeError",
     "evalue": "module 'fsds' has no attribute '__version__'",
     "traceback": [
      "\u001b[0;31m---------------------------------------------------------------------------\u001b[0m",
      "\u001b[0;31mAttributeError\u001b[0m                            Traceback (most recent call last)",
      "\u001b[0;32m<ipython-input-15-179392242d22>\u001b[0m in \u001b[0;36m<module>\u001b[0;34m\u001b[0m\n\u001b[1;32m      1\u001b[0m \u001b[0;32mimport\u001b[0m \u001b[0mfsds\u001b[0m\u001b[0;34m\u001b[0m\u001b[0;34m\u001b[0m\u001b[0m\n\u001b[0;32m----> 2\u001b[0;31m \u001b[0mfsds\u001b[0m\u001b[0;34m.\u001b[0m\u001b[0m__version__\u001b[0m\u001b[0;34m\u001b[0m\u001b[0;34m\u001b[0m\u001b[0m\n\u001b[0m",
      "\u001b[0;31mAttributeError\u001b[0m: module 'fsds' has no attribute '__version__'"
     ]
    }
   ],
   "metadata": {}
  },
  {
   "cell_type": "markdown",
   "source": [
    "## Making Helper function"
   ],
   "metadata": {}
  },
  {
   "cell_type": "code",
   "execution_count": null,
   "source": [
    "def global_imports(modulename,shortname = None, asfunction = False,check_vers=True):\n",
    "        \"\"\"from stackoverflow: https://stackoverflow.com/questions/11990556/how-to-make-global-imports-from-a-function,\n",
    "        https://stackoverflow.com/a/46878490\"\"\"\n",
    "        from importlib import import_module\n",
    "\n",
    "        if shortname is None:\n",
    "            shortname = modulename\n",
    "\n",
    "        if asfunction is False:\n",
    "            globals()[shortname] = import_module(modulename) #__import__(modulename)\n",
    "        else:\n",
    "            globals()[shortname] = eval(modulename + \".\" + shortname)\n",
    "            \n",
    "        if check_vers:\n",
    "            return globals()[shortname].__version__"
   ],
   "outputs": [],
   "metadata": {}
  },
  {
   "cell_type": "code",
   "execution_count": null,
   "source": [
    "check_package_versions = ['matplotlib','seaborn','pandas','numpy','sklearn'] "
   ],
   "outputs": [],
   "metadata": {}
  },
  {
   "cell_type": "code",
   "execution_count": null,
   "source": [
    "import pandas as pd\n",
    "def check_package_versions(packages = ['matplotlib','seaborn','pandas','numpy','sklearn'] ):\n",
    "    \"\"\"SEEE TESTING NOTEBOOK\"\"\"\n",
    "    version_list = [['Package','Version']]\n",
    "    \n",
    "    for package in packages:\n",
    "        if '.' not in package:\n",
    "            vers = global_imports(package,None,check_vers=True)\n",
    "            version_list.append([package,vers])\n",
    "            \n",
    "    pkg_vers_df = pd.DataFrame(version_list[1:],columns=version_list[0])\n",
    "    return pkg_vers_df"
   ],
   "outputs": [],
   "metadata": {}
  },
  {
   "cell_type": "code",
   "execution_count": null,
   "source": [
    "check_package_versions()"
   ],
   "outputs": [
    {
     "output_type": "execute_result",
     "data": {
      "text/html": [
       "<div>\n",
       "<style scoped>\n",
       "    .dataframe tbody tr th:only-of-type {\n",
       "        vertical-align: middle;\n",
       "    }\n",
       "\n",
       "    .dataframe tbody tr th {\n",
       "        vertical-align: top;\n",
       "    }\n",
       "\n",
       "    .dataframe thead th {\n",
       "        text-align: right;\n",
       "    }\n",
       "</style>\n",
       "<table border=\"1\" class=\"dataframe\">\n",
       "  <thead>\n",
       "    <tr style=\"text-align: right;\">\n",
       "      <th></th>\n",
       "      <th>Package</th>\n",
       "      <th>Version</th>\n",
       "    </tr>\n",
       "  </thead>\n",
       "  <tbody>\n",
       "    <tr>\n",
       "      <th>0</th>\n",
       "      <td>matplotlib</td>\n",
       "      <td>3.3.1</td>\n",
       "    </tr>\n",
       "    <tr>\n",
       "      <th>1</th>\n",
       "      <td>seaborn</td>\n",
       "      <td>0.11.0</td>\n",
       "    </tr>\n",
       "    <tr>\n",
       "      <th>2</th>\n",
       "      <td>pandas</td>\n",
       "      <td>1.1.3</td>\n",
       "    </tr>\n",
       "    <tr>\n",
       "      <th>3</th>\n",
       "      <td>numpy</td>\n",
       "      <td>1.19.5</td>\n",
       "    </tr>\n",
       "    <tr>\n",
       "      <th>4</th>\n",
       "      <td>sklearn</td>\n",
       "      <td>0.23.2</td>\n",
       "    </tr>\n",
       "  </tbody>\n",
       "</table>\n",
       "</div>"
      ],
      "text/plain": [
       "      Package Version\n",
       "0  matplotlib   3.3.1\n",
       "1     seaborn  0.11.0\n",
       "2      pandas   1.1.3\n",
       "3       numpy  1.19.5\n",
       "4     sklearn  0.23.2"
      ]
     },
     "metadata": {},
     "execution_count": 15
    }
   ],
   "metadata": {}
  },
  {
   "cell_type": "code",
   "execution_count": null,
   "source": [],
   "outputs": [],
   "metadata": {}
  }
 ]
}