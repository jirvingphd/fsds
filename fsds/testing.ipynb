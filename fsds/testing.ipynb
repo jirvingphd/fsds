{
 "cells": [
  {
   "cell_type": "code",
   "execution_count": null,
   "source": [],
   "outputs": [],
   "metadata": {}
  },
  {
   "cell_type": "code",
   "execution_count": 1,
   "source": [
    "%load_ext autoreload\r\n",
    "%autoreload 2\r\n",
    "import default as df"
   ],
   "outputs": [],
   "metadata": {}
  },
  {
   "cell_type": "code",
   "execution_count": 16,
   "source": [
    "df.get_filepath_info(return_df=False,abs_fpaths=True,emojis=False)"
   ],
   "outputs": [
    {
     "output_type": "display_data",
     "data": {
      "text/html": [
       "<style  type=\"text/css\" >\n",
       "    #T_d49c236d_3a83_11ec_8b30_9cb6d0f89b18  {\n",
       "    }</style><table id=\"T_d49c236d_3a83_11ec_8b30_9cb6d0f89b18\" ><thead>    <tr>        <th class=\"col_heading level0 col0\" >Folder</th>        <th class=\"col_heading level0 col1\" >Path</th>        <th class=\"col_heading level0 col2\" >Abs Path</th>    </tr></thead><tbody>\n",
       "                <tr>\n",
       "                                <td id=\"T_d49c236d_3a83_11ec_8b30_9cb6d0f89b18row0_col0\" class=\"data row0 col0\" >True</td>\n",
       "                        <td id=\"T_d49c236d_3a83_11ec_8b30_9cb6d0f89b18row0_col1\" class=\"data row0 col1\" >.\\pandemic</td>\n",
       "                        <td id=\"T_d49c236d_3a83_11ec_8b30_9cb6d0f89b18row0_col2\" class=\"data row0 col2\" >c:\\Users\\james\\GitHub\\fsds\\fsds\\pandemic</td>\n",
       "            </tr>\n",
       "            <tr>\n",
       "                                <td id=\"T_d49c236d_3a83_11ec_8b30_9cb6d0f89b18row1_col0\" class=\"data row1 col0\" >True</td>\n",
       "                        <td id=\"T_d49c236d_3a83_11ec_8b30_9cb6d0f89b18row1_col1\" class=\"data row1 col1\" >.\\jmi</td>\n",
       "                        <td id=\"T_d49c236d_3a83_11ec_8b30_9cb6d0f89b18row1_col2\" class=\"data row1 col2\" >c:\\Users\\james\\GitHub\\fsds\\fsds\\jmi</td>\n",
       "            </tr>\n",
       "            <tr>\n",
       "                                <td id=\"T_d49c236d_3a83_11ec_8b30_9cb6d0f89b18row2_col0\" class=\"data row2 col0\" >True</td>\n",
       "                        <td id=\"T_d49c236d_3a83_11ec_8b30_9cb6d0f89b18row2_col1\" class=\"data row2 col1\" >.\\__pycache__</td>\n",
       "                        <td id=\"T_d49c236d_3a83_11ec_8b30_9cb6d0f89b18row2_col2\" class=\"data row2 col2\" >c:\\Users\\james\\GitHub\\fsds\\fsds\\__pycache__</td>\n",
       "            </tr>\n",
       "            <tr>\n",
       "                                <td id=\"T_d49c236d_3a83_11ec_8b30_9cb6d0f89b18row3_col0\" class=\"data row3 col0\" >True</td>\n",
       "                        <td id=\"T_d49c236d_3a83_11ec_8b30_9cb6d0f89b18row3_col1\" class=\"data row3 col1\" >.\\070620FT</td>\n",
       "                        <td id=\"T_d49c236d_3a83_11ec_8b30_9cb6d0f89b18row3_col2\" class=\"data row3 col2\" >c:\\Users\\james\\GitHub\\fsds\\fsds\\070620FT</td>\n",
       "            </tr>\n",
       "            <tr>\n",
       "                                <td id=\"T_d49c236d_3a83_11ec_8b30_9cb6d0f89b18row4_col0\" class=\"data row4 col0\" >True</td>\n",
       "                        <td id=\"T_d49c236d_3a83_11ec_8b30_9cb6d0f89b18row4_col1\" class=\"data row4 col1\" >.\\041320PT</td>\n",
       "                        <td id=\"T_d49c236d_3a83_11ec_8b30_9cb6d0f89b18row4_col2\" class=\"data row4 col2\" >c:\\Users\\james\\GitHub\\fsds\\fsds\\041320PT</td>\n",
       "            </tr>\n",
       "            <tr>\n",
       "                                <td id=\"T_d49c236d_3a83_11ec_8b30_9cb6d0f89b18row5_col0\" class=\"data row5 col0\" >False</td>\n",
       "                        <td id=\"T_d49c236d_3a83_11ec_8b30_9cb6d0f89b18row5_col1\" class=\"data row5 col1\" >.\\testing.ipynb</td>\n",
       "                        <td id=\"T_d49c236d_3a83_11ec_8b30_9cb6d0f89b18row5_col2\" class=\"data row5 col2\" >c:\\Users\\james\\GitHub\\fsds\\fsds\\testing.ipynb</td>\n",
       "            </tr>\n",
       "            <tr>\n",
       "                                <td id=\"T_d49c236d_3a83_11ec_8b30_9cb6d0f89b18row6_col0\" class=\"data row6 col0\" >False</td>\n",
       "                        <td id=\"T_d49c236d_3a83_11ec_8b30_9cb6d0f89b18row6_col1\" class=\"data row6 col1\" >.\\quick_refs.py</td>\n",
       "                        <td id=\"T_d49c236d_3a83_11ec_8b30_9cb6d0f89b18row6_col2\" class=\"data row6 col2\" >c:\\Users\\james\\GitHub\\fsds\\fsds\\quick_refs.py</td>\n",
       "            </tr>\n",
       "            <tr>\n",
       "                                <td id=\"T_d49c236d_3a83_11ec_8b30_9cb6d0f89b18row7_col0\" class=\"data row7 col0\" >False</td>\n",
       "                        <td id=\"T_d49c236d_3a83_11ec_8b30_9cb6d0f89b18row7_col1\" class=\"data row7 col1\" >.\\imports_legacy.py</td>\n",
       "                        <td id=\"T_d49c236d_3a83_11ec_8b30_9cb6d0f89b18row7_col2\" class=\"data row7 col2\" >c:\\Users\\james\\GitHub\\fsds\\fsds\\imports_legacy.py</td>\n",
       "            </tr>\n",
       "            <tr>\n",
       "                                <td id=\"T_d49c236d_3a83_11ec_8b30_9cb6d0f89b18row8_col0\" class=\"data row8 col0\" >False</td>\n",
       "                        <td id=\"T_d49c236d_3a83_11ec_8b30_9cb6d0f89b18row8_col1\" class=\"data row8 col1\" >.\\imports.py</td>\n",
       "                        <td id=\"T_d49c236d_3a83_11ec_8b30_9cb6d0f89b18row8_col2\" class=\"data row8 col2\" >c:\\Users\\james\\GitHub\\fsds\\fsds\\imports.py</td>\n",
       "            </tr>\n",
       "            <tr>\n",
       "                                <td id=\"T_d49c236d_3a83_11ec_8b30_9cb6d0f89b18row9_col0\" class=\"data row9 col0\" >False</td>\n",
       "                        <td id=\"T_d49c236d_3a83_11ec_8b30_9cb6d0f89b18row9_col1\" class=\"data row9 col1\" >.\\fsds.py</td>\n",
       "                        <td id=\"T_d49c236d_3a83_11ec_8b30_9cb6d0f89b18row9_col2\" class=\"data row9 col2\" >c:\\Users\\james\\GitHub\\fsds\\fsds\\fsds.py</td>\n",
       "            </tr>\n",
       "            <tr>\n",
       "                                <td id=\"T_d49c236d_3a83_11ec_8b30_9cb6d0f89b18row10_col0\" class=\"data row10 col0\" >False</td>\n",
       "                        <td id=\"T_d49c236d_3a83_11ec_8b30_9cb6d0f89b18row10_col1\" class=\"data row10 col1\" >.\\default.py</td>\n",
       "                        <td id=\"T_d49c236d_3a83_11ec_8b30_9cb6d0f89b18row10_col2\" class=\"data row10 col2\" >c:\\Users\\james\\GitHub\\fsds\\fsds\\default.py</td>\n",
       "            </tr>\n",
       "            <tr>\n",
       "                                <td id=\"T_d49c236d_3a83_11ec_8b30_9cb6d0f89b18row11_col0\" class=\"data row11 col0\" >False</td>\n",
       "                        <td id=\"T_d49c236d_3a83_11ec_8b30_9cb6d0f89b18row11_col1\" class=\"data row11 col1\" >.\\datasets.py</td>\n",
       "                        <td id=\"T_d49c236d_3a83_11ec_8b30_9cb6d0f89b18row11_col2\" class=\"data row11 col2\" >c:\\Users\\james\\GitHub\\fsds\\fsds\\datasets.py</td>\n",
       "            </tr>\n",
       "            <tr>\n",
       "                                <td id=\"T_d49c236d_3a83_11ec_8b30_9cb6d0f89b18row12_col0\" class=\"data row12 col0\" >False</td>\n",
       "                        <td id=\"T_d49c236d_3a83_11ec_8b30_9cb6d0f89b18row12_col1\" class=\"data row12 col1\" >.\\__init__.py</td>\n",
       "                        <td id=\"T_d49c236d_3a83_11ec_8b30_9cb6d0f89b18row12_col2\" class=\"data row12 col2\" >c:\\Users\\james\\GitHub\\fsds\\fsds\\__init__.py</td>\n",
       "            </tr>\n",
       "    </tbody></table>"
      ],
      "text/plain": [
       "<pandas.io.formats.style.Styler at 0x1fcb93a7730>"
      ]
     },
     "metadata": {}
    }
   ],
   "metadata": {}
  },
  {
   "cell_type": "code",
   "execution_count": 9,
   "source": [
    "df.get_filepath_info(return_df=True)"
   ],
   "outputs": [
    {
     "output_type": "execute_result",
     "data": {
      "text/html": [
       "<div>\n",
       "<style scoped>\n",
       "    .dataframe tbody tr th:only-of-type {\n",
       "        vertical-align: middle;\n",
       "    }\n",
       "\n",
       "    .dataframe tbody tr th {\n",
       "        vertical-align: top;\n",
       "    }\n",
       "\n",
       "    .dataframe thead th {\n",
       "        text-align: right;\n",
       "    }\n",
       "</style>\n",
       "<table border=\"1\" class=\"dataframe\">\n",
       "  <thead>\n",
       "    <tr style=\"text-align: right;\">\n",
       "      <th></th>\n",
       "      <th>Folder</th>\n",
       "      <th>Path</th>\n",
       "    </tr>\n",
       "  </thead>\n",
       "  <tbody>\n",
       "    <tr>\n",
       "      <th>0</th>\n",
       "      <td>True</td>\n",
       "      <td>🗂 .\\pandemic</td>\n",
       "    </tr>\n",
       "    <tr>\n",
       "      <th>1</th>\n",
       "      <td>True</td>\n",
       "      <td>🗂 .\\jmi</td>\n",
       "    </tr>\n",
       "    <tr>\n",
       "      <th>2</th>\n",
       "      <td>True</td>\n",
       "      <td>🗂 .\\__pycache__</td>\n",
       "    </tr>\n",
       "    <tr>\n",
       "      <th>3</th>\n",
       "      <td>True</td>\n",
       "      <td>🗂 .\\070620FT</td>\n",
       "    </tr>\n",
       "    <tr>\n",
       "      <th>4</th>\n",
       "      <td>True</td>\n",
       "      <td>🗂 .\\041320PT</td>\n",
       "    </tr>\n",
       "    <tr>\n",
       "      <th>5</th>\n",
       "      <td>False</td>\n",
       "      <td>.\\testing.ipynb</td>\n",
       "    </tr>\n",
       "    <tr>\n",
       "      <th>6</th>\n",
       "      <td>False</td>\n",
       "      <td>.\\quick_refs.py</td>\n",
       "    </tr>\n",
       "    <tr>\n",
       "      <th>7</th>\n",
       "      <td>False</td>\n",
       "      <td>.\\imports_legacy.py</td>\n",
       "    </tr>\n",
       "    <tr>\n",
       "      <th>8</th>\n",
       "      <td>False</td>\n",
       "      <td>.\\imports.py</td>\n",
       "    </tr>\n",
       "    <tr>\n",
       "      <th>9</th>\n",
       "      <td>False</td>\n",
       "      <td>.\\fsds.py</td>\n",
       "    </tr>\n",
       "    <tr>\n",
       "      <th>10</th>\n",
       "      <td>False</td>\n",
       "      <td>.\\default.py</td>\n",
       "    </tr>\n",
       "    <tr>\n",
       "      <th>11</th>\n",
       "      <td>False</td>\n",
       "      <td>.\\datasets.py</td>\n",
       "    </tr>\n",
       "    <tr>\n",
       "      <th>12</th>\n",
       "      <td>False</td>\n",
       "      <td>.\\__init__.py</td>\n",
       "    </tr>\n",
       "  </tbody>\n",
       "</table>\n",
       "</div>"
      ],
      "text/plain": [
       "    Folder                 Path\n",
       "0     True         🗂 .\\pandemic\n",
       "1     True              🗂 .\\jmi\n",
       "2     True      🗂 .\\__pycache__\n",
       "3     True         🗂 .\\070620FT\n",
       "4     True         🗂 .\\041320PT\n",
       "5    False      .\\testing.ipynb\n",
       "6    False      .\\quick_refs.py\n",
       "7    False  .\\imports_legacy.py\n",
       "8    False         .\\imports.py\n",
       "9    False            .\\fsds.py\n",
       "10   False         .\\default.py\n",
       "11   False        .\\datasets.py\n",
       "12   False        .\\__init__.py"
      ]
     },
     "metadata": {},
     "execution_count": 9
    }
   ],
   "metadata": {}
  },
  {
   "cell_type": "code",
   "execution_count": 8,
   "source": [
    "df.get_filepath_info(return_df=True,check_links=True)"
   ],
   "outputs": [
    {
     "output_type": "execute_result",
     "data": {
      "text/html": [
       "<div>\n",
       "<style scoped>\n",
       "    .dataframe tbody tr th:only-of-type {\n",
       "        vertical-align: middle;\n",
       "    }\n",
       "\n",
       "    .dataframe tbody tr th {\n",
       "        vertical-align: top;\n",
       "    }\n",
       "\n",
       "    .dataframe thead th {\n",
       "        text-align: right;\n",
       "    }\n",
       "</style>\n",
       "<table border=\"1\" class=\"dataframe\">\n",
       "  <thead>\n",
       "    <tr style=\"text-align: right;\">\n",
       "      <th></th>\n",
       "      <th>Folder</th>\n",
       "      <th>Path</th>\n",
       "      <th>Link</th>\n",
       "    </tr>\n",
       "  </thead>\n",
       "  <tbody>\n",
       "    <tr>\n",
       "      <th>0</th>\n",
       "      <td>True</td>\n",
       "      <td>🗂 .\\pandemic</td>\n",
       "      <td>False</td>\n",
       "    </tr>\n",
       "    <tr>\n",
       "      <th>1</th>\n",
       "      <td>True</td>\n",
       "      <td>🗂 .\\jmi</td>\n",
       "      <td>False</td>\n",
       "    </tr>\n",
       "    <tr>\n",
       "      <th>2</th>\n",
       "      <td>True</td>\n",
       "      <td>🗂 .\\__pycache__</td>\n",
       "      <td>False</td>\n",
       "    </tr>\n",
       "    <tr>\n",
       "      <th>3</th>\n",
       "      <td>True</td>\n",
       "      <td>🗂 .\\070620FT</td>\n",
       "      <td>False</td>\n",
       "    </tr>\n",
       "    <tr>\n",
       "      <th>4</th>\n",
       "      <td>True</td>\n",
       "      <td>🗂 .\\041320PT</td>\n",
       "      <td>False</td>\n",
       "    </tr>\n",
       "    <tr>\n",
       "      <th>5</th>\n",
       "      <td>False</td>\n",
       "      <td>.\\testing.ipynb</td>\n",
       "      <td>False</td>\n",
       "    </tr>\n",
       "    <tr>\n",
       "      <th>6</th>\n",
       "      <td>False</td>\n",
       "      <td>.\\quick_refs.py</td>\n",
       "      <td>False</td>\n",
       "    </tr>\n",
       "    <tr>\n",
       "      <th>7</th>\n",
       "      <td>False</td>\n",
       "      <td>.\\imports_legacy.py</td>\n",
       "      <td>False</td>\n",
       "    </tr>\n",
       "    <tr>\n",
       "      <th>8</th>\n",
       "      <td>False</td>\n",
       "      <td>.\\imports.py</td>\n",
       "      <td>False</td>\n",
       "    </tr>\n",
       "    <tr>\n",
       "      <th>9</th>\n",
       "      <td>False</td>\n",
       "      <td>.\\fsds.py</td>\n",
       "      <td>False</td>\n",
       "    </tr>\n",
       "    <tr>\n",
       "      <th>10</th>\n",
       "      <td>False</td>\n",
       "      <td>.\\default.py</td>\n",
       "      <td>False</td>\n",
       "    </tr>\n",
       "    <tr>\n",
       "      <th>11</th>\n",
       "      <td>False</td>\n",
       "      <td>.\\datasets.py</td>\n",
       "      <td>False</td>\n",
       "    </tr>\n",
       "    <tr>\n",
       "      <th>12</th>\n",
       "      <td>False</td>\n",
       "      <td>.\\__init__.py</td>\n",
       "      <td>False</td>\n",
       "    </tr>\n",
       "  </tbody>\n",
       "</table>\n",
       "</div>"
      ],
      "text/plain": [
       "    Folder                 Path   Link\n",
       "0     True         🗂 .\\pandemic  False\n",
       "1     True              🗂 .\\jmi  False\n",
       "2     True      🗂 .\\__pycache__  False\n",
       "3     True         🗂 .\\070620FT  False\n",
       "4     True         🗂 .\\041320PT  False\n",
       "5    False      .\\testing.ipynb  False\n",
       "6    False      .\\quick_refs.py  False\n",
       "7    False  .\\imports_legacy.py  False\n",
       "8    False         .\\imports.py  False\n",
       "9    False            .\\fsds.py  False\n",
       "10   False         .\\default.py  False\n",
       "11   False        .\\datasets.py  False\n",
       "12   False        .\\__init__.py  False"
      ]
     },
     "metadata": {},
     "execution_count": 8
    }
   ],
   "metadata": {}
  },
  {
   "cell_type": "code",
   "execution_count": null,
   "source": [
    "## 10/07/21 TEst\r\n",
    "def get_filepath_info(folder=\"./\",search_q= \"*\",return_df=False):\r\n",
    "    \"\"\"Shows or returns a dataframe with all of the folder and files in folder + search_q (for glob)\r\n",
    "\r\n",
    "    Args:\r\n",
    "        folder (str, optional): Base folder to use. Defaults to \"./\".\r\n",
    "        search_q (str, optional): Query to append to folder for glob. Defaults to \"*\".\r\n",
    "        return_df (bool, optional): [description]. Defaults to False.\r\n",
    "\r\n",
    "    Returns:\r\n",
    "        DataFrame: File Names, Type, returned\r\n",
    "    \"\"\"\r\n",
    "    import os,glob\r\n",
    "    import pandas as pd\r\n",
    "    all_filepaths = glob.glob(folder+search_q)\r\n",
    "    file_info = []\r\n",
    "    for one_fpath in all_filepaths:\r\n",
    "        d = {'Path':one_fpath.replace(folder,''),\r\n",
    "            'Folder':os.path.isdir(one_fpath),\r\n",
    "            \"Link\":os.path.islink(one_fpath),\r\n",
    "            \"File\":os.path.isfile(one_fpath)}\r\n",
    "\r\n",
    "        file_info.append(d)\r\n",
    "\r\n",
    "    file_df = pd.DataFrame(file_info).sort_values(['Folder','Link','Path'],ascending=False)\r\n",
    "    file_df = file_df.reset_index(drop=True)\r\n",
    "    \r\n",
    "    ## indent fgilenames\r\n",
    "    file_df.loc[ file_df['Folder']==True,'Path'] = file_df['Path'].map(lambda x: f\"🗂 {x}\")\r\n",
    "    file_df.loc[ file_df['Link']==True,'Path'] = file_df['Path'].map(lambda x: f\"🔗 {x}\")\r\n",
    "    \r\n",
    "    if return_df:\r\n",
    "        return file_df    \r\n",
    "    else:\r\n",
    "        display(file_df.style.hide_index().set_table_styles({'Path':{'text-align':'left',\r\n",
    "                                                        'margin-left':'2px'}}))\r\n",
    "        "
   ],
   "outputs": [],
   "metadata": {}
  },
  {
   "cell_type": "code",
   "execution_count": 25,
   "source": [
    "raise Exception('stop here!')\r\n",
    "# from imports import *\r\n",
    "# sklearn"
   ],
   "outputs": [
    {
     "output_type": "execute_result",
     "data": {
      "text/plain": [
       "<module 'sklearn' from 'C:\\\\Users\\\\james\\\\Anaconda3\\\\envs\\\\learn-env\\\\lib\\\\site-packages\\\\sklearn\\\\__init__.py'>"
      ]
     },
     "metadata": {},
     "execution_count": 25
    }
   ],
   "metadata": {
    "ExecuteTime": {
     "end_time": "2021-09-10T00:57:22.667209Z",
     "start_time": "2021-09-10T00:57:20.587248Z"
    }
   }
  },
  {
   "cell_type": "code",
   "execution_count": null,
   "source": [
    "%load_ext autoreload\r\n",
    "%autoreload 2\r\n",
    "# import imports as imp\r\n",
    "# pkgs = imp.import_packages()\r\n",
    "\r\n"
   ],
   "outputs": [
    {
     "output_type": "display_data",
     "data": {
      "text/html": [
       "<style  type=\"text/css\" >\n",
       "#T_23b6b4f6_11d6_11ec_9977_9cb6d0f89b18row0_col0,#T_23b6b4f6_11d6_11ec_9977_9cb6d0f89b18row0_col2,#T_23b6b4f6_11d6_11ec_9977_9cb6d0f89b18row0_col3,#T_23b6b4f6_11d6_11ec_9977_9cb6d0f89b18row1_col0,#T_23b6b4f6_11d6_11ec_9977_9cb6d0f89b18row1_col2,#T_23b6b4f6_11d6_11ec_9977_9cb6d0f89b18row1_col3,#T_23b6b4f6_11d6_11ec_9977_9cb6d0f89b18row2_col0,#T_23b6b4f6_11d6_11ec_9977_9cb6d0f89b18row2_col2,#T_23b6b4f6_11d6_11ec_9977_9cb6d0f89b18row2_col3,#T_23b6b4f6_11d6_11ec_9977_9cb6d0f89b18row3_col0,#T_23b6b4f6_11d6_11ec_9977_9cb6d0f89b18row3_col2,#T_23b6b4f6_11d6_11ec_9977_9cb6d0f89b18row3_col3,#T_23b6b4f6_11d6_11ec_9977_9cb6d0f89b18row4_col0,#T_23b6b4f6_11d6_11ec_9977_9cb6d0f89b18row4_col2,#T_23b6b4f6_11d6_11ec_9977_9cb6d0f89b18row4_col3,#T_23b6b4f6_11d6_11ec_9977_9cb6d0f89b18row5_col0,#T_23b6b4f6_11d6_11ec_9977_9cb6d0f89b18row5_col2,#T_23b6b4f6_11d6_11ec_9977_9cb6d0f89b18row5_col3,#T_23b6b4f6_11d6_11ec_9977_9cb6d0f89b18row6_col0,#T_23b6b4f6_11d6_11ec_9977_9cb6d0f89b18row6_col2,#T_23b6b4f6_11d6_11ec_9977_9cb6d0f89b18row6_col3,#T_23b6b4f6_11d6_11ec_9977_9cb6d0f89b18row7_col0,#T_23b6b4f6_11d6_11ec_9977_9cb6d0f89b18row7_col2,#T_23b6b4f6_11d6_11ec_9977_9cb6d0f89b18row7_col3{\n",
       "            text-align:  left;\n",
       "        }#T_23b6b4f6_11d6_11ec_9977_9cb6d0f89b18row0_col1,#T_23b6b4f6_11d6_11ec_9977_9cb6d0f89b18row0_col4,#T_23b6b4f6_11d6_11ec_9977_9cb6d0f89b18row1_col1,#T_23b6b4f6_11d6_11ec_9977_9cb6d0f89b18row1_col4,#T_23b6b4f6_11d6_11ec_9977_9cb6d0f89b18row2_col1,#T_23b6b4f6_11d6_11ec_9977_9cb6d0f89b18row2_col4,#T_23b6b4f6_11d6_11ec_9977_9cb6d0f89b18row3_col1,#T_23b6b4f6_11d6_11ec_9977_9cb6d0f89b18row3_col4,#T_23b6b4f6_11d6_11ec_9977_9cb6d0f89b18row4_col1,#T_23b6b4f6_11d6_11ec_9977_9cb6d0f89b18row4_col4,#T_23b6b4f6_11d6_11ec_9977_9cb6d0f89b18row5_col1,#T_23b6b4f6_11d6_11ec_9977_9cb6d0f89b18row5_col4,#T_23b6b4f6_11d6_11ec_9977_9cb6d0f89b18row6_col1,#T_23b6b4f6_11d6_11ec_9977_9cb6d0f89b18row6_col4,#T_23b6b4f6_11d6_11ec_9977_9cb6d0f89b18row7_col1,#T_23b6b4f6_11d6_11ec_9977_9cb6d0f89b18row7_col4{\n",
       "            text-align:  left;\n",
       "            text-align:  center;\n",
       "        }</style><table id=\"T_23b6b4f6_11d6_11ec_9977_9cb6d0f89b18\" ><caption>Loaded Packages & Info</caption><thead>    <tr>        <th class=\"col_heading level0 col0\" >Package</th>        <th class=\"col_heading level0 col1\" >Handle</th>        <th class=\"col_heading level0 col2\" >Version</th>        <th class=\"col_heading level0 col3\" >Documentation</th>        <th class=\"col_heading level0 col4\" >Imported</th>    </tr></thead><tbody>\n",
       "                <tr>\n",
       "                                <td id=\"T_23b6b4f6_11d6_11ec_9977_9cb6d0f89b18row0_col0\" class=\"data row0 col0\" >pandas</td>\n",
       "                        <td id=\"T_23b6b4f6_11d6_11ec_9977_9cb6d0f89b18row0_col1\" class=\"data row0 col1\" >pd</td>\n",
       "                        <td id=\"T_23b6b4f6_11d6_11ec_9977_9cb6d0f89b18row0_col2\" class=\"data row0 col2\" >1.1.3</td>\n",
       "                        <td id=\"T_23b6b4f6_11d6_11ec_9977_9cb6d0f89b18row0_col3\" class=\"data row0 col3\" ><a href=\"https://pandas.pydata.org/docs/\">https://pandas.pydata.org/docs/</a></td>\n",
       "                        <td id=\"T_23b6b4f6_11d6_11ec_9977_9cb6d0f89b18row0_col4\" class=\"data row0 col4\" >Y</td>\n",
       "            </tr>\n",
       "            <tr>\n",
       "                                <td id=\"T_23b6b4f6_11d6_11ec_9977_9cb6d0f89b18row1_col0\" class=\"data row1 col0\" >fsds</td>\n",
       "                        <td id=\"T_23b6b4f6_11d6_11ec_9977_9cb6d0f89b18row1_col1\" class=\"data row1 col1\" >fs</td>\n",
       "                        <td id=\"T_23b6b4f6_11d6_11ec_9977_9cb6d0f89b18row1_col2\" class=\"data row1 col2\" >!</td>\n",
       "                        <td id=\"T_23b6b4f6_11d6_11ec_9977_9cb6d0f89b18row1_col3\" class=\"data row1 col3\" ><a href=\"https://fs-ds.readthedocs.io/en/latest/\">https://fs-ds.readthedocs.io/en/latest/</a></td>\n",
       "                        <td id=\"T_23b6b4f6_11d6_11ec_9977_9cb6d0f89b18row1_col4\" class=\"data row1 col4\" >Y</td>\n",
       "            </tr>\n",
       "            <tr>\n",
       "                                <td id=\"T_23b6b4f6_11d6_11ec_9977_9cb6d0f89b18row2_col0\" class=\"data row2 col0\" >numpy</td>\n",
       "                        <td id=\"T_23b6b4f6_11d6_11ec_9977_9cb6d0f89b18row2_col1\" class=\"data row2 col1\" >np</td>\n",
       "                        <td id=\"T_23b6b4f6_11d6_11ec_9977_9cb6d0f89b18row2_col2\" class=\"data row2 col2\" >1.19.2</td>\n",
       "                        <td id=\"T_23b6b4f6_11d6_11ec_9977_9cb6d0f89b18row2_col3\" class=\"data row2 col3\" ><a href=\"https://numpy.org/doc/stable/reference/\">https://numpy.org/doc/stable/reference/</a></td>\n",
       "                        <td id=\"T_23b6b4f6_11d6_11ec_9977_9cb6d0f89b18row2_col4\" class=\"data row2 col4\" >Y</td>\n",
       "            </tr>\n",
       "            <tr>\n",
       "                                <td id=\"T_23b6b4f6_11d6_11ec_9977_9cb6d0f89b18row3_col0\" class=\"data row3 col0\" >matplotlib</td>\n",
       "                        <td id=\"T_23b6b4f6_11d6_11ec_9977_9cb6d0f89b18row3_col1\" class=\"data row3 col1\" >mpl</td>\n",
       "                        <td id=\"T_23b6b4f6_11d6_11ec_9977_9cb6d0f89b18row3_col2\" class=\"data row3 col2\" >3.3.1</td>\n",
       "                        <td id=\"T_23b6b4f6_11d6_11ec_9977_9cb6d0f89b18row3_col3\" class=\"data row3 col3\" ><a href=\"https://matplotlib.org/stable/api/index.html\">https://matplotlib.org/stable/api/index.html</a></td>\n",
       "                        <td id=\"T_23b6b4f6_11d6_11ec_9977_9cb6d0f89b18row3_col4\" class=\"data row3 col4\" >Y</td>\n",
       "            </tr>\n",
       "            <tr>\n",
       "                                <td id=\"T_23b6b4f6_11d6_11ec_9977_9cb6d0f89b18row4_col0\" class=\"data row4 col0\" >matplotlib.pyplot</td>\n",
       "                        <td id=\"T_23b6b4f6_11d6_11ec_9977_9cb6d0f89b18row4_col1\" class=\"data row4 col1\" >plt</td>\n",
       "                        <td id=\"T_23b6b4f6_11d6_11ec_9977_9cb6d0f89b18row4_col2\" class=\"data row4 col2\" ></td>\n",
       "                        <td id=\"T_23b6b4f6_11d6_11ec_9977_9cb6d0f89b18row4_col3\" class=\"data row4 col3\" ><a href=\"https://matplotlib.org/stable/api/_as_gen/matplotlib.pyplot.html#module-matplotlib.pyplot\">https://matplotlib.org/stable/api/_as_gen/matplotlib.pyplot.html#module-matplotlib.pyplot</a></td>\n",
       "                        <td id=\"T_23b6b4f6_11d6_11ec_9977_9cb6d0f89b18row4_col4\" class=\"data row4 col4\" >Y</td>\n",
       "            </tr>\n",
       "            <tr>\n",
       "                                <td id=\"T_23b6b4f6_11d6_11ec_9977_9cb6d0f89b18row5_col0\" class=\"data row5 col0\" >seaborn</td>\n",
       "                        <td id=\"T_23b6b4f6_11d6_11ec_9977_9cb6d0f89b18row5_col1\" class=\"data row5 col1\" >sns</td>\n",
       "                        <td id=\"T_23b6b4f6_11d6_11ec_9977_9cb6d0f89b18row5_col2\" class=\"data row5 col2\" >0.11.0</td>\n",
       "                        <td id=\"T_23b6b4f6_11d6_11ec_9977_9cb6d0f89b18row5_col3\" class=\"data row5 col3\" ><a href=\"https://seaborn.pydata.org/api.html\">https://seaborn.pydata.org/api.html</a></td>\n",
       "                        <td id=\"T_23b6b4f6_11d6_11ec_9977_9cb6d0f89b18row5_col4\" class=\"data row5 col4\" >Y</td>\n",
       "            </tr>\n",
       "            <tr>\n",
       "                                <td id=\"T_23b6b4f6_11d6_11ec_9977_9cb6d0f89b18row6_col0\" class=\"data row6 col0\" >IPython.display</td>\n",
       "                        <td id=\"T_23b6b4f6_11d6_11ec_9977_9cb6d0f89b18row6_col1\" class=\"data row6 col1\" >dp</td>\n",
       "                        <td id=\"T_23b6b4f6_11d6_11ec_9977_9cb6d0f89b18row6_col2\" class=\"data row6 col2\" ></td>\n",
       "                        <td id=\"T_23b6b4f6_11d6_11ec_9977_9cb6d0f89b18row6_col3\" class=\"data row6 col3\" ><a href=\"https://ipython.readthedocs.io/en/stable/api/generated/IPython.display.html\">https://ipython.readthedocs.io/en/stable/api/generated/IPython.display.html</a></td>\n",
       "                        <td id=\"T_23b6b4f6_11d6_11ec_9977_9cb6d0f89b18row6_col4\" class=\"data row6 col4\" >Y</td>\n",
       "            </tr>\n",
       "            <tr>\n",
       "                                <td id=\"T_23b6b4f6_11d6_11ec_9977_9cb6d0f89b18row7_col0\" class=\"data row7 col0\" >sklearn</td>\n",
       "                        <td id=\"T_23b6b4f6_11d6_11ec_9977_9cb6d0f89b18row7_col1\" class=\"data row7 col1\" ></td>\n",
       "                        <td id=\"T_23b6b4f6_11d6_11ec_9977_9cb6d0f89b18row7_col2\" class=\"data row7 col2\" >0.23.2</td>\n",
       "                        <td id=\"T_23b6b4f6_11d6_11ec_9977_9cb6d0f89b18row7_col3\" class=\"data row7 col3\" ><a href=\"\"></a></td>\n",
       "                        <td id=\"T_23b6b4f6_11d6_11ec_9977_9cb6d0f89b18row7_col4\" class=\"data row7 col4\" >N</td>\n",
       "            </tr>\n",
       "    </tbody></table>"
      ],
      "text/plain": [
       "<pandas.io.formats.style.Styler at 0x1df65780280>"
      ]
     },
     "metadata": {}
    },
    {
     "output_type": "display_data",
     "data": {
      "text/html": [
       "<style  type=\"text/css\" >\n",
       "#T_23ba5aab_11d6_11ec_865e_9cb6d0f89b18row0_col0,#T_23ba5aab_11d6_11ec_865e_9cb6d0f89b18row0_col2,#T_23ba5aab_11d6_11ec_865e_9cb6d0f89b18row0_col3,#T_23ba5aab_11d6_11ec_865e_9cb6d0f89b18row1_col0,#T_23ba5aab_11d6_11ec_865e_9cb6d0f89b18row1_col2,#T_23ba5aab_11d6_11ec_865e_9cb6d0f89b18row1_col3,#T_23ba5aab_11d6_11ec_865e_9cb6d0f89b18row2_col0,#T_23ba5aab_11d6_11ec_865e_9cb6d0f89b18row2_col2,#T_23ba5aab_11d6_11ec_865e_9cb6d0f89b18row2_col3,#T_23ba5aab_11d6_11ec_865e_9cb6d0f89b18row3_col0,#T_23ba5aab_11d6_11ec_865e_9cb6d0f89b18row3_col2,#T_23ba5aab_11d6_11ec_865e_9cb6d0f89b18row3_col3,#T_23ba5aab_11d6_11ec_865e_9cb6d0f89b18row4_col0,#T_23ba5aab_11d6_11ec_865e_9cb6d0f89b18row4_col2,#T_23ba5aab_11d6_11ec_865e_9cb6d0f89b18row4_col3,#T_23ba5aab_11d6_11ec_865e_9cb6d0f89b18row5_col0,#T_23ba5aab_11d6_11ec_865e_9cb6d0f89b18row5_col2,#T_23ba5aab_11d6_11ec_865e_9cb6d0f89b18row5_col3,#T_23ba5aab_11d6_11ec_865e_9cb6d0f89b18row6_col0,#T_23ba5aab_11d6_11ec_865e_9cb6d0f89b18row6_col2,#T_23ba5aab_11d6_11ec_865e_9cb6d0f89b18row6_col3,#T_23ba5aab_11d6_11ec_865e_9cb6d0f89b18row7_col0,#T_23ba5aab_11d6_11ec_865e_9cb6d0f89b18row7_col2,#T_23ba5aab_11d6_11ec_865e_9cb6d0f89b18row7_col3{\n",
       "            text-align:  left;\n",
       "        }#T_23ba5aab_11d6_11ec_865e_9cb6d0f89b18row0_col1,#T_23ba5aab_11d6_11ec_865e_9cb6d0f89b18row0_col4,#T_23ba5aab_11d6_11ec_865e_9cb6d0f89b18row1_col1,#T_23ba5aab_11d6_11ec_865e_9cb6d0f89b18row1_col4,#T_23ba5aab_11d6_11ec_865e_9cb6d0f89b18row2_col1,#T_23ba5aab_11d6_11ec_865e_9cb6d0f89b18row2_col4,#T_23ba5aab_11d6_11ec_865e_9cb6d0f89b18row3_col1,#T_23ba5aab_11d6_11ec_865e_9cb6d0f89b18row3_col4,#T_23ba5aab_11d6_11ec_865e_9cb6d0f89b18row4_col1,#T_23ba5aab_11d6_11ec_865e_9cb6d0f89b18row4_col4,#T_23ba5aab_11d6_11ec_865e_9cb6d0f89b18row5_col1,#T_23ba5aab_11d6_11ec_865e_9cb6d0f89b18row5_col4,#T_23ba5aab_11d6_11ec_865e_9cb6d0f89b18row6_col1,#T_23ba5aab_11d6_11ec_865e_9cb6d0f89b18row6_col4,#T_23ba5aab_11d6_11ec_865e_9cb6d0f89b18row7_col1,#T_23ba5aab_11d6_11ec_865e_9cb6d0f89b18row7_col4{\n",
       "            text-align:  left;\n",
       "            text-align:  center;\n",
       "        }</style><table id=\"T_23ba5aab_11d6_11ec_865e_9cb6d0f89b18\" ><caption>Loaded Packages & Info</caption><thead>    <tr>        <th class=\"col_heading level0 col0\" >Package</th>        <th class=\"col_heading level0 col1\" >Handle</th>        <th class=\"col_heading level0 col2\" >Version</th>        <th class=\"col_heading level0 col3\" >Documentation</th>        <th class=\"col_heading level0 col4\" >Imported</th>    </tr></thead><tbody>\n",
       "                <tr>\n",
       "                                <td id=\"T_23ba5aab_11d6_11ec_865e_9cb6d0f89b18row0_col0\" class=\"data row0 col0\" >pandas</td>\n",
       "                        <td id=\"T_23ba5aab_11d6_11ec_865e_9cb6d0f89b18row0_col1\" class=\"data row0 col1\" >pd</td>\n",
       "                        <td id=\"T_23ba5aab_11d6_11ec_865e_9cb6d0f89b18row0_col2\" class=\"data row0 col2\" >1.1.3</td>\n",
       "                        <td id=\"T_23ba5aab_11d6_11ec_865e_9cb6d0f89b18row0_col3\" class=\"data row0 col3\" ><a href=\"https://pandas.pydata.org/docs/\">https://pandas.pydata.org/docs/</a></td>\n",
       "                        <td id=\"T_23ba5aab_11d6_11ec_865e_9cb6d0f89b18row0_col4\" class=\"data row0 col4\" >Y</td>\n",
       "            </tr>\n",
       "            <tr>\n",
       "                                <td id=\"T_23ba5aab_11d6_11ec_865e_9cb6d0f89b18row1_col0\" class=\"data row1 col0\" >fsds</td>\n",
       "                        <td id=\"T_23ba5aab_11d6_11ec_865e_9cb6d0f89b18row1_col1\" class=\"data row1 col1\" >fs</td>\n",
       "                        <td id=\"T_23ba5aab_11d6_11ec_865e_9cb6d0f89b18row1_col2\" class=\"data row1 col2\" >!</td>\n",
       "                        <td id=\"T_23ba5aab_11d6_11ec_865e_9cb6d0f89b18row1_col3\" class=\"data row1 col3\" ><a href=\"https://fs-ds.readthedocs.io/en/latest/\">https://fs-ds.readthedocs.io/en/latest/</a></td>\n",
       "                        <td id=\"T_23ba5aab_11d6_11ec_865e_9cb6d0f89b18row1_col4\" class=\"data row1 col4\" >Y</td>\n",
       "            </tr>\n",
       "            <tr>\n",
       "                                <td id=\"T_23ba5aab_11d6_11ec_865e_9cb6d0f89b18row2_col0\" class=\"data row2 col0\" >numpy</td>\n",
       "                        <td id=\"T_23ba5aab_11d6_11ec_865e_9cb6d0f89b18row2_col1\" class=\"data row2 col1\" >np</td>\n",
       "                        <td id=\"T_23ba5aab_11d6_11ec_865e_9cb6d0f89b18row2_col2\" class=\"data row2 col2\" >1.19.2</td>\n",
       "                        <td id=\"T_23ba5aab_11d6_11ec_865e_9cb6d0f89b18row2_col3\" class=\"data row2 col3\" ><a href=\"https://numpy.org/doc/stable/reference/\">https://numpy.org/doc/stable/reference/</a></td>\n",
       "                        <td id=\"T_23ba5aab_11d6_11ec_865e_9cb6d0f89b18row2_col4\" class=\"data row2 col4\" >Y</td>\n",
       "            </tr>\n",
       "            <tr>\n",
       "                                <td id=\"T_23ba5aab_11d6_11ec_865e_9cb6d0f89b18row3_col0\" class=\"data row3 col0\" >matplotlib</td>\n",
       "                        <td id=\"T_23ba5aab_11d6_11ec_865e_9cb6d0f89b18row3_col1\" class=\"data row3 col1\" >mpl</td>\n",
       "                        <td id=\"T_23ba5aab_11d6_11ec_865e_9cb6d0f89b18row3_col2\" class=\"data row3 col2\" >3.3.1</td>\n",
       "                        <td id=\"T_23ba5aab_11d6_11ec_865e_9cb6d0f89b18row3_col3\" class=\"data row3 col3\" ><a href=\"https://matplotlib.org/stable/api/index.html\">https://matplotlib.org/stable/api/index.html</a></td>\n",
       "                        <td id=\"T_23ba5aab_11d6_11ec_865e_9cb6d0f89b18row3_col4\" class=\"data row3 col4\" >Y</td>\n",
       "            </tr>\n",
       "            <tr>\n",
       "                                <td id=\"T_23ba5aab_11d6_11ec_865e_9cb6d0f89b18row4_col0\" class=\"data row4 col0\" >matplotlib.pyplot</td>\n",
       "                        <td id=\"T_23ba5aab_11d6_11ec_865e_9cb6d0f89b18row4_col1\" class=\"data row4 col1\" >plt</td>\n",
       "                        <td id=\"T_23ba5aab_11d6_11ec_865e_9cb6d0f89b18row4_col2\" class=\"data row4 col2\" ></td>\n",
       "                        <td id=\"T_23ba5aab_11d6_11ec_865e_9cb6d0f89b18row4_col3\" class=\"data row4 col3\" ><a href=\"https://matplotlib.org/stable/api/_as_gen/matplotlib.pyplot.html#module-matplotlib.pyplot\">https://matplotlib.org/stable/api/_as_gen/matplotlib.pyplot.html#module-matplotlib.pyplot</a></td>\n",
       "                        <td id=\"T_23ba5aab_11d6_11ec_865e_9cb6d0f89b18row4_col4\" class=\"data row4 col4\" >Y</td>\n",
       "            </tr>\n",
       "            <tr>\n",
       "                                <td id=\"T_23ba5aab_11d6_11ec_865e_9cb6d0f89b18row5_col0\" class=\"data row5 col0\" >seaborn</td>\n",
       "                        <td id=\"T_23ba5aab_11d6_11ec_865e_9cb6d0f89b18row5_col1\" class=\"data row5 col1\" >sns</td>\n",
       "                        <td id=\"T_23ba5aab_11d6_11ec_865e_9cb6d0f89b18row5_col2\" class=\"data row5 col2\" >0.11.0</td>\n",
       "                        <td id=\"T_23ba5aab_11d6_11ec_865e_9cb6d0f89b18row5_col3\" class=\"data row5 col3\" ><a href=\"https://seaborn.pydata.org/api.html\">https://seaborn.pydata.org/api.html</a></td>\n",
       "                        <td id=\"T_23ba5aab_11d6_11ec_865e_9cb6d0f89b18row5_col4\" class=\"data row5 col4\" >Y</td>\n",
       "            </tr>\n",
       "            <tr>\n",
       "                                <td id=\"T_23ba5aab_11d6_11ec_865e_9cb6d0f89b18row6_col0\" class=\"data row6 col0\" >IPython.display</td>\n",
       "                        <td id=\"T_23ba5aab_11d6_11ec_865e_9cb6d0f89b18row6_col1\" class=\"data row6 col1\" >dp</td>\n",
       "                        <td id=\"T_23ba5aab_11d6_11ec_865e_9cb6d0f89b18row6_col2\" class=\"data row6 col2\" ></td>\n",
       "                        <td id=\"T_23ba5aab_11d6_11ec_865e_9cb6d0f89b18row6_col3\" class=\"data row6 col3\" ><a href=\"https://ipython.readthedocs.io/en/stable/api/generated/IPython.display.html\">https://ipython.readthedocs.io/en/stable/api/generated/IPython.display.html</a></td>\n",
       "                        <td id=\"T_23ba5aab_11d6_11ec_865e_9cb6d0f89b18row6_col4\" class=\"data row6 col4\" >Y</td>\n",
       "            </tr>\n",
       "            <tr>\n",
       "                                <td id=\"T_23ba5aab_11d6_11ec_865e_9cb6d0f89b18row7_col0\" class=\"data row7 col0\" >sklearn</td>\n",
       "                        <td id=\"T_23ba5aab_11d6_11ec_865e_9cb6d0f89b18row7_col1\" class=\"data row7 col1\" ></td>\n",
       "                        <td id=\"T_23ba5aab_11d6_11ec_865e_9cb6d0f89b18row7_col2\" class=\"data row7 col2\" >0.23.2</td>\n",
       "                        <td id=\"T_23ba5aab_11d6_11ec_865e_9cb6d0f89b18row7_col3\" class=\"data row7 col3\" ><a href=\"\"></a></td>\n",
       "                        <td id=\"T_23ba5aab_11d6_11ec_865e_9cb6d0f89b18row7_col4\" class=\"data row7 col4\" >N</td>\n",
       "            </tr>\n",
       "    </tbody></table>"
      ],
      "text/plain": [
       "<pandas.io.formats.style.Styler at 0x1df62adf2b0>"
      ]
     },
     "metadata": {}
    }
   ],
   "metadata": {
    "ExecuteTime": {
     "end_time": "2021-09-10T00:57:22.856701Z",
     "start_time": "2021-09-10T00:57:22.673161Z"
    }
   }
  },
  {
   "cell_type": "code",
   "execution_count": 23,
   "source": [
    "imp.check_package_versions(fpath=True)"
   ],
   "outputs": [
    {
     "output_type": "display_data",
     "data": {
      "text/html": [
       "<style  type=\"text/css\" >\n",
       "#T_da2484c8_11d5_11ec_a3e1_9cb6d0f89b18row0_col2,#T_da2484c8_11d5_11ec_a3e1_9cb6d0f89b18row1_col2,#T_da2484c8_11d5_11ec_a3e1_9cb6d0f89b18row2_col2,#T_da2484c8_11d5_11ec_a3e1_9cb6d0f89b18row3_col2,#T_da2484c8_11d5_11ec_a3e1_9cb6d0f89b18row4_col2,#T_da2484c8_11d5_11ec_a3e1_9cb6d0f89b18row5_col2{\n",
       "            width:  600px;\n",
       "            text-align:  center;\n",
       "        }</style><table id=\"T_da2484c8_11d5_11ec_a3e1_9cb6d0f89b18\" ><caption>Package Versions</caption><thead>    <tr>        <th class=\"blank level0\" ></th>        <th class=\"col_heading level0 col0\" >Package</th>        <th class=\"col_heading level0 col1\" >Version</th>        <th class=\"col_heading level0 col2\" >File</th>    </tr></thead><tbody>\n",
       "                <tr>\n",
       "                        <th id=\"T_da2484c8_11d5_11ec_a3e1_9cb6d0f89b18level0_row0\" class=\"row_heading level0 row0\" >0</th>\n",
       "                        <td id=\"T_da2484c8_11d5_11ec_a3e1_9cb6d0f89b18row0_col0\" class=\"data row0 col0\" >matplotlib</td>\n",
       "                        <td id=\"T_da2484c8_11d5_11ec_a3e1_9cb6d0f89b18row0_col1\" class=\"data row0 col1\" >3.3.1</td>\n",
       "                        <td id=\"T_da2484c8_11d5_11ec_a3e1_9cb6d0f89b18row0_col2\" class=\"data row0 col2\" >C:\\Users\\james\\Anaconda3\\envs\\learn-env\\lib\\site-packages\\matplotlib\\__init__.py</td>\n",
       "            </tr>\n",
       "            <tr>\n",
       "                        <th id=\"T_da2484c8_11d5_11ec_a3e1_9cb6d0f89b18level0_row1\" class=\"row_heading level0 row1\" >1</th>\n",
       "                        <td id=\"T_da2484c8_11d5_11ec_a3e1_9cb6d0f89b18row1_col0\" class=\"data row1 col0\" >seaborn</td>\n",
       "                        <td id=\"T_da2484c8_11d5_11ec_a3e1_9cb6d0f89b18row1_col1\" class=\"data row1 col1\" >0.11.0</td>\n",
       "                        <td id=\"T_da2484c8_11d5_11ec_a3e1_9cb6d0f89b18row1_col2\" class=\"data row1 col2\" >C:\\Users\\james\\Anaconda3\\envs\\learn-env\\lib\\site-packages\\seaborn\\__init__.py</td>\n",
       "            </tr>\n",
       "            <tr>\n",
       "                        <th id=\"T_da2484c8_11d5_11ec_a3e1_9cb6d0f89b18level0_row2\" class=\"row_heading level0 row2\" >2</th>\n",
       "                        <td id=\"T_da2484c8_11d5_11ec_a3e1_9cb6d0f89b18row2_col0\" class=\"data row2 col0\" >pandas</td>\n",
       "                        <td id=\"T_da2484c8_11d5_11ec_a3e1_9cb6d0f89b18row2_col1\" class=\"data row2 col1\" >1.1.3</td>\n",
       "                        <td id=\"T_da2484c8_11d5_11ec_a3e1_9cb6d0f89b18row2_col2\" class=\"data row2 col2\" >C:\\Users\\james\\Anaconda3\\envs\\learn-env\\lib\\site-packages\\pandas\\__init__.py</td>\n",
       "            </tr>\n",
       "            <tr>\n",
       "                        <th id=\"T_da2484c8_11d5_11ec_a3e1_9cb6d0f89b18level0_row3\" class=\"row_heading level0 row3\" >3</th>\n",
       "                        <td id=\"T_da2484c8_11d5_11ec_a3e1_9cb6d0f89b18row3_col0\" class=\"data row3 col0\" >numpy</td>\n",
       "                        <td id=\"T_da2484c8_11d5_11ec_a3e1_9cb6d0f89b18row3_col1\" class=\"data row3 col1\" >1.19.2</td>\n",
       "                        <td id=\"T_da2484c8_11d5_11ec_a3e1_9cb6d0f89b18row3_col2\" class=\"data row3 col2\" >C:\\Users\\james\\Anaconda3\\envs\\learn-env\\lib\\site-packages\\numpy\\__init__.py</td>\n",
       "            </tr>\n",
       "            <tr>\n",
       "                        <th id=\"T_da2484c8_11d5_11ec_a3e1_9cb6d0f89b18level0_row4\" class=\"row_heading level0 row4\" >4</th>\n",
       "                        <td id=\"T_da2484c8_11d5_11ec_a3e1_9cb6d0f89b18row4_col0\" class=\"data row4 col0\" >sklearn</td>\n",
       "                        <td id=\"T_da2484c8_11d5_11ec_a3e1_9cb6d0f89b18row4_col1\" class=\"data row4 col1\" >0.23.2</td>\n",
       "                        <td id=\"T_da2484c8_11d5_11ec_a3e1_9cb6d0f89b18row4_col2\" class=\"data row4 col2\" >C:\\Users\\james\\Anaconda3\\envs\\learn-env\\lib\\site-packages\\sklearn\\__init__.py</td>\n",
       "            </tr>\n",
       "            <tr>\n",
       "                        <th id=\"T_da2484c8_11d5_11ec_a3e1_9cb6d0f89b18level0_row5\" class=\"row_heading level0 row5\" >5</th>\n",
       "                        <td id=\"T_da2484c8_11d5_11ec_a3e1_9cb6d0f89b18row5_col0\" class=\"data row5 col0\" >fsds</td>\n",
       "                        <td id=\"T_da2484c8_11d5_11ec_a3e1_9cb6d0f89b18row5_col1\" class=\"data row5 col1\" >!</td>\n",
       "                        <td id=\"T_da2484c8_11d5_11ec_a3e1_9cb6d0f89b18row5_col2\" class=\"data row5 col2\" >c:\\Users\\james\\GitHub\\fsds\\fsds\\fsds.py</td>\n",
       "            </tr>\n",
       "    </tbody></table>"
      ],
      "text/plain": [
       "<pandas.io.formats.style.Styler at 0x28a33a5b880>"
      ]
     },
     "metadata": {}
    }
   ],
   "metadata": {
    "ExecuteTime": {
     "end_time": "2021-09-10T00:58:49.669923Z",
     "start_time": "2021-09-10T00:58:49.513499Z"
    }
   }
  },
  {
   "cell_type": "code",
   "execution_count": 20,
   "source": [
    "pkgs = imp.import_packages()\r\n"
   ],
   "outputs": [
    {
     "output_type": "display_data",
     "data": {
      "text/html": [
       "<style  type=\"text/css\" >\n",
       "#T_c2124ba7_11d5_11ec_baea_9cb6d0f89b18row0_col0,#T_c2124ba7_11d5_11ec_baea_9cb6d0f89b18row0_col2,#T_c2124ba7_11d5_11ec_baea_9cb6d0f89b18row0_col3,#T_c2124ba7_11d5_11ec_baea_9cb6d0f89b18row1_col0,#T_c2124ba7_11d5_11ec_baea_9cb6d0f89b18row1_col2,#T_c2124ba7_11d5_11ec_baea_9cb6d0f89b18row1_col3,#T_c2124ba7_11d5_11ec_baea_9cb6d0f89b18row2_col0,#T_c2124ba7_11d5_11ec_baea_9cb6d0f89b18row2_col2,#T_c2124ba7_11d5_11ec_baea_9cb6d0f89b18row2_col3,#T_c2124ba7_11d5_11ec_baea_9cb6d0f89b18row3_col0,#T_c2124ba7_11d5_11ec_baea_9cb6d0f89b18row3_col2,#T_c2124ba7_11d5_11ec_baea_9cb6d0f89b18row3_col3,#T_c2124ba7_11d5_11ec_baea_9cb6d0f89b18row4_col0,#T_c2124ba7_11d5_11ec_baea_9cb6d0f89b18row4_col2,#T_c2124ba7_11d5_11ec_baea_9cb6d0f89b18row4_col3,#T_c2124ba7_11d5_11ec_baea_9cb6d0f89b18row5_col0,#T_c2124ba7_11d5_11ec_baea_9cb6d0f89b18row5_col2,#T_c2124ba7_11d5_11ec_baea_9cb6d0f89b18row5_col3,#T_c2124ba7_11d5_11ec_baea_9cb6d0f89b18row6_col0,#T_c2124ba7_11d5_11ec_baea_9cb6d0f89b18row6_col2,#T_c2124ba7_11d5_11ec_baea_9cb6d0f89b18row6_col3,#T_c2124ba7_11d5_11ec_baea_9cb6d0f89b18row7_col0,#T_c2124ba7_11d5_11ec_baea_9cb6d0f89b18row7_col2,#T_c2124ba7_11d5_11ec_baea_9cb6d0f89b18row7_col3{\n",
       "            text-align:  left;\n",
       "        }#T_c2124ba7_11d5_11ec_baea_9cb6d0f89b18row0_col1,#T_c2124ba7_11d5_11ec_baea_9cb6d0f89b18row0_col4,#T_c2124ba7_11d5_11ec_baea_9cb6d0f89b18row1_col1,#T_c2124ba7_11d5_11ec_baea_9cb6d0f89b18row1_col4,#T_c2124ba7_11d5_11ec_baea_9cb6d0f89b18row2_col1,#T_c2124ba7_11d5_11ec_baea_9cb6d0f89b18row2_col4,#T_c2124ba7_11d5_11ec_baea_9cb6d0f89b18row3_col1,#T_c2124ba7_11d5_11ec_baea_9cb6d0f89b18row3_col4,#T_c2124ba7_11d5_11ec_baea_9cb6d0f89b18row4_col1,#T_c2124ba7_11d5_11ec_baea_9cb6d0f89b18row4_col4,#T_c2124ba7_11d5_11ec_baea_9cb6d0f89b18row5_col1,#T_c2124ba7_11d5_11ec_baea_9cb6d0f89b18row5_col4,#T_c2124ba7_11d5_11ec_baea_9cb6d0f89b18row6_col1,#T_c2124ba7_11d5_11ec_baea_9cb6d0f89b18row6_col4,#T_c2124ba7_11d5_11ec_baea_9cb6d0f89b18row7_col1,#T_c2124ba7_11d5_11ec_baea_9cb6d0f89b18row7_col4{\n",
       "            text-align:  left;\n",
       "            text-align:  center;\n",
       "        }</style><table id=\"T_c2124ba7_11d5_11ec_baea_9cb6d0f89b18\" ><caption>Loaded Packages & Info</caption><thead>    <tr>        <th class=\"col_heading level0 col0\" >Package</th>        <th class=\"col_heading level0 col1\" >Handle</th>        <th class=\"col_heading level0 col2\" >Version</th>        <th class=\"col_heading level0 col3\" >Documentation</th>        <th class=\"col_heading level0 col4\" >Imported</th>    </tr></thead><tbody>\n",
       "                <tr>\n",
       "                                <td id=\"T_c2124ba7_11d5_11ec_baea_9cb6d0f89b18row0_col0\" class=\"data row0 col0\" >pandas</td>\n",
       "                        <td id=\"T_c2124ba7_11d5_11ec_baea_9cb6d0f89b18row0_col1\" class=\"data row0 col1\" >pd</td>\n",
       "                        <td id=\"T_c2124ba7_11d5_11ec_baea_9cb6d0f89b18row0_col2\" class=\"data row0 col2\" >1.1.3</td>\n",
       "                        <td id=\"T_c2124ba7_11d5_11ec_baea_9cb6d0f89b18row0_col3\" class=\"data row0 col3\" ><a href=\"https://pandas.pydata.org/docs/\">https://pandas.pydata.org/docs/</a></td>\n",
       "                        <td id=\"T_c2124ba7_11d5_11ec_baea_9cb6d0f89b18row0_col4\" class=\"data row0 col4\" >Y</td>\n",
       "            </tr>\n",
       "            <tr>\n",
       "                                <td id=\"T_c2124ba7_11d5_11ec_baea_9cb6d0f89b18row1_col0\" class=\"data row1 col0\" >fsds</td>\n",
       "                        <td id=\"T_c2124ba7_11d5_11ec_baea_9cb6d0f89b18row1_col1\" class=\"data row1 col1\" >fs</td>\n",
       "                        <td id=\"T_c2124ba7_11d5_11ec_baea_9cb6d0f89b18row1_col2\" class=\"data row1 col2\" >!</td>\n",
       "                        <td id=\"T_c2124ba7_11d5_11ec_baea_9cb6d0f89b18row1_col3\" class=\"data row1 col3\" ><a href=\"https://fs-ds.readthedocs.io/en/latest/\">https://fs-ds.readthedocs.io/en/latest/</a></td>\n",
       "                        <td id=\"T_c2124ba7_11d5_11ec_baea_9cb6d0f89b18row1_col4\" class=\"data row1 col4\" >Y</td>\n",
       "            </tr>\n",
       "            <tr>\n",
       "                                <td id=\"T_c2124ba7_11d5_11ec_baea_9cb6d0f89b18row2_col0\" class=\"data row2 col0\" >numpy</td>\n",
       "                        <td id=\"T_c2124ba7_11d5_11ec_baea_9cb6d0f89b18row2_col1\" class=\"data row2 col1\" >np</td>\n",
       "                        <td id=\"T_c2124ba7_11d5_11ec_baea_9cb6d0f89b18row2_col2\" class=\"data row2 col2\" >1.19.2</td>\n",
       "                        <td id=\"T_c2124ba7_11d5_11ec_baea_9cb6d0f89b18row2_col3\" class=\"data row2 col3\" ><a href=\"https://numpy.org/doc/stable/reference/\">https://numpy.org/doc/stable/reference/</a></td>\n",
       "                        <td id=\"T_c2124ba7_11d5_11ec_baea_9cb6d0f89b18row2_col4\" class=\"data row2 col4\" >Y</td>\n",
       "            </tr>\n",
       "            <tr>\n",
       "                                <td id=\"T_c2124ba7_11d5_11ec_baea_9cb6d0f89b18row3_col0\" class=\"data row3 col0\" >matplotlib</td>\n",
       "                        <td id=\"T_c2124ba7_11d5_11ec_baea_9cb6d0f89b18row3_col1\" class=\"data row3 col1\" >mpl</td>\n",
       "                        <td id=\"T_c2124ba7_11d5_11ec_baea_9cb6d0f89b18row3_col2\" class=\"data row3 col2\" >3.3.1</td>\n",
       "                        <td id=\"T_c2124ba7_11d5_11ec_baea_9cb6d0f89b18row3_col3\" class=\"data row3 col3\" ><a href=\"https://matplotlib.org/stable/api/index.html\">https://matplotlib.org/stable/api/index.html</a></td>\n",
       "                        <td id=\"T_c2124ba7_11d5_11ec_baea_9cb6d0f89b18row3_col4\" class=\"data row3 col4\" >Y</td>\n",
       "            </tr>\n",
       "            <tr>\n",
       "                                <td id=\"T_c2124ba7_11d5_11ec_baea_9cb6d0f89b18row4_col0\" class=\"data row4 col0\" >matplotlib.pyplot</td>\n",
       "                        <td id=\"T_c2124ba7_11d5_11ec_baea_9cb6d0f89b18row4_col1\" class=\"data row4 col1\" >plt</td>\n",
       "                        <td id=\"T_c2124ba7_11d5_11ec_baea_9cb6d0f89b18row4_col2\" class=\"data row4 col2\" ></td>\n",
       "                        <td id=\"T_c2124ba7_11d5_11ec_baea_9cb6d0f89b18row4_col3\" class=\"data row4 col3\" ><a href=\"https://matplotlib.org/stable/api/_as_gen/matplotlib.pyplot.html#module-matplotlib.pyplot\">https://matplotlib.org/stable/api/_as_gen/matplotlib.pyplot.html#module-matplotlib.pyplot</a></td>\n",
       "                        <td id=\"T_c2124ba7_11d5_11ec_baea_9cb6d0f89b18row4_col4\" class=\"data row4 col4\" >Y</td>\n",
       "            </tr>\n",
       "            <tr>\n",
       "                                <td id=\"T_c2124ba7_11d5_11ec_baea_9cb6d0f89b18row5_col0\" class=\"data row5 col0\" >seaborn</td>\n",
       "                        <td id=\"T_c2124ba7_11d5_11ec_baea_9cb6d0f89b18row5_col1\" class=\"data row5 col1\" >sns</td>\n",
       "                        <td id=\"T_c2124ba7_11d5_11ec_baea_9cb6d0f89b18row5_col2\" class=\"data row5 col2\" >0.11.0</td>\n",
       "                        <td id=\"T_c2124ba7_11d5_11ec_baea_9cb6d0f89b18row5_col3\" class=\"data row5 col3\" ><a href=\"https://seaborn.pydata.org/api.html\">https://seaborn.pydata.org/api.html</a></td>\n",
       "                        <td id=\"T_c2124ba7_11d5_11ec_baea_9cb6d0f89b18row5_col4\" class=\"data row5 col4\" >Y</td>\n",
       "            </tr>\n",
       "            <tr>\n",
       "                                <td id=\"T_c2124ba7_11d5_11ec_baea_9cb6d0f89b18row6_col0\" class=\"data row6 col0\" >IPython.display</td>\n",
       "                        <td id=\"T_c2124ba7_11d5_11ec_baea_9cb6d0f89b18row6_col1\" class=\"data row6 col1\" >dp</td>\n",
       "                        <td id=\"T_c2124ba7_11d5_11ec_baea_9cb6d0f89b18row6_col2\" class=\"data row6 col2\" ></td>\n",
       "                        <td id=\"T_c2124ba7_11d5_11ec_baea_9cb6d0f89b18row6_col3\" class=\"data row6 col3\" ><a href=\"https://ipython.readthedocs.io/en/stable/api/generated/IPython.display.html\">https://ipython.readthedocs.io/en/stable/api/generated/IPython.display.html</a></td>\n",
       "                        <td id=\"T_c2124ba7_11d5_11ec_baea_9cb6d0f89b18row6_col4\" class=\"data row6 col4\" >Y</td>\n",
       "            </tr>\n",
       "            <tr>\n",
       "                                <td id=\"T_c2124ba7_11d5_11ec_baea_9cb6d0f89b18row7_col0\" class=\"data row7 col0\" >sklearn</td>\n",
       "                        <td id=\"T_c2124ba7_11d5_11ec_baea_9cb6d0f89b18row7_col1\" class=\"data row7 col1\" ></td>\n",
       "                        <td id=\"T_c2124ba7_11d5_11ec_baea_9cb6d0f89b18row7_col2\" class=\"data row7 col2\" >0.23.2</td>\n",
       "                        <td id=\"T_c2124ba7_11d5_11ec_baea_9cb6d0f89b18row7_col3\" class=\"data row7 col3\" ><a href=\"\"></a></td>\n",
       "                        <td id=\"T_c2124ba7_11d5_11ec_baea_9cb6d0f89b18row7_col4\" class=\"data row7 col4\" >N</td>\n",
       "            </tr>\n",
       "    </tbody></table>"
      ],
      "text/plain": [
       "<pandas.io.formats.style.Styler at 0x28a32cdf910>"
      ]
     },
     "metadata": {}
    }
   ],
   "metadata": {}
  },
  {
   "cell_type": "code",
   "execution_count": 21,
   "source": [
    "import os\r\n",
    "# Function to convert file path into clickable form.\r\n",
    "def clickable(path,label=None):\r\n",
    "    \"\"\"Source: https://www.geeksforgeeks.org/how-to-create-a-table-with-clickable-hyperlink-to-a-local-file-in-pandas/\"\"\"\r\n",
    "    # returns the final component of a url\r\n",
    "    # f_url = os.path.basename(path)\r\n",
    "    if label is None:\r\n",
    "    # convert the url into link\r\n",
    "        return '<a href=\"{}\">{}</a>'.format(path, path)\r\n",
    "    else: \r\n",
    "        return '<a href=\"{}\">{}</a>'.format(path, label)"
   ],
   "outputs": [],
   "metadata": {}
  },
  {
   "cell_type": "code",
   "execution_count": 22,
   "source": [
    "\r\n",
    "pkgs.style.format({'Documentation':clickable})"
   ],
   "outputs": [
    {
     "output_type": "error",
     "ename": "AttributeError",
     "evalue": "'NoneType' object has no attribute 'style'",
     "traceback": [
      "\u001b[1;31m---------------------------------------------------------------------------\u001b[0m",
      "\u001b[1;31mAttributeError\u001b[0m                            Traceback (most recent call last)",
      "\u001b[1;32m<ipython-input-22-cdd1a11d376b>\u001b[0m in \u001b[0;36m<module>\u001b[1;34m\u001b[0m\n\u001b[1;32m----> 1\u001b[1;33m \u001b[0mpkgs\u001b[0m\u001b[1;33m.\u001b[0m\u001b[0mstyle\u001b[0m\u001b[1;33m.\u001b[0m\u001b[0mformat\u001b[0m\u001b[1;33m(\u001b[0m\u001b[1;33m{\u001b[0m\u001b[1;34m'Documentation'\u001b[0m\u001b[1;33m:\u001b[0m\u001b[0mclickable\u001b[0m\u001b[1;33m}\u001b[0m\u001b[1;33m)\u001b[0m\u001b[1;33m\u001b[0m\u001b[1;33m\u001b[0m\u001b[0m\n\u001b[0m",
      "\u001b[1;31mAttributeError\u001b[0m: 'NoneType' object has no attribute 'style'"
     ]
    }
   ],
   "metadata": {}
  },
  {
   "cell_type": "code",
   "execution_count": null,
   "source": [
    "\r\n",
    "pkgs.style.format({'Documentation':lambda x: clickable(x,\"link\")})"
   ],
   "outputs": [
    {
     "output_type": "error",
     "ename": "AttributeError",
     "evalue": "'NoneType' object has no attribute 'style'",
     "traceback": [
      "\u001b[1;31m---------------------------------------------------------------------------\u001b[0m",
      "\u001b[1;31mAttributeError\u001b[0m                            Traceback (most recent call last)",
      "\u001b[1;32m<ipython-input-11-740f09e7469b>\u001b[0m in \u001b[0;36m<module>\u001b[1;34m\u001b[0m\n\u001b[1;32m----> 1\u001b[1;33m \u001b[0mpkgs\u001b[0m\u001b[1;33m.\u001b[0m\u001b[0mstyle\u001b[0m\u001b[1;33m.\u001b[0m\u001b[0mformat\u001b[0m\u001b[1;33m(\u001b[0m\u001b[1;33m{\u001b[0m\u001b[1;34m'Documentation'\u001b[0m\u001b[1;33m:\u001b[0m\u001b[1;32mlambda\u001b[0m \u001b[0mx\u001b[0m\u001b[1;33m:\u001b[0m \u001b[0mclickable\u001b[0m\u001b[1;33m(\u001b[0m\u001b[0mx\u001b[0m\u001b[1;33m,\u001b[0m\u001b[1;34m\"link\"\u001b[0m\u001b[1;33m)\u001b[0m\u001b[1;33m}\u001b[0m\u001b[1;33m)\u001b[0m\u001b[1;33m\u001b[0m\u001b[1;33m\u001b[0m\u001b[0m\n\u001b[0m",
      "\u001b[1;31mAttributeError\u001b[0m: 'NoneType' object has no attribute 'style'"
     ]
    }
   ],
   "metadata": {}
  },
  {
   "cell_type": "code",
   "execution_count": null,
   "source": [
    "# pkgs.style.format({\"Documentation\":fun})"
   ],
   "outputs": [],
   "metadata": {}
  },
  {
   "cell_type": "code",
   "execution_count": 17,
   "source": [
    "import pandas as pd\r\n",
    "var = pd.DataFrame().style\r\n",
    "type(var)"
   ],
   "outputs": [
    {
     "output_type": "execute_result",
     "data": {
      "text/plain": [
       "pandas.io.formats.style.Styler"
      ]
     },
     "metadata": {},
     "execution_count": 17
    }
   ],
   "metadata": {}
  },
  {
   "cell_type": "code",
   "execution_count": null,
   "source": [
    "pkgs['Link'] = pkgs[\"Documentation\"].map(lambda x: f'<a href=\"{x}\">link</a>') #f\"[Link]({x})\")\r\n",
    "print(pkgs.loc[0,'Link'])"
   ],
   "outputs": [
    {
     "output_type": "stream",
     "name": "stdout",
     "text": [
      "<a href=\"https://pandas.pydata.org/docs/\">link</a>\n"
     ]
    }
   ],
   "metadata": {}
  },
  {
   "cell_type": "markdown",
   "source": [
    "'<a href=\"{}\">{}</a>'.format(path, f_url)"
   ],
   "metadata": {}
  },
  {
   "cell_type": "code",
   "execution_count": null,
   "source": [
    "print('<a href=\"https://pandas.pydata.org/docs/\">Link</a>')"
   ],
   "outputs": [
    {
     "output_type": "stream",
     "name": "stdout",
     "text": [
      "<a href=\"https://pandas.pydata.org/docs/\">Link</a>\n"
     ]
    }
   ],
   "metadata": {}
  },
  {
   "cell_type": "code",
   "execution_count": null,
   "source": [
    "\r\n",
    "import inspect\r\n",
    "inspect.getfile(pd)"
   ],
   "outputs": [],
   "metadata": {}
  },
  {
   "cell_type": "markdown",
   "source": [
    "# Teasting "
   ],
   "metadata": {}
  },
  {
   "cell_type": "code",
   "execution_count": null,
   "source": [
    "from imports import *"
   ],
   "outputs": [
    {
     "output_type": "display_data",
     "data": {
      "text/html": [
       "<style  type=\"text/css\" >\n",
       "</style><table id=\"T_94c07506_10d1_11ec_9d80_acde48001122\" ><caption>Loaded Packages & Info</caption><thead>    <tr>        <th class=\"col_heading level0 col0\" >import</th>        <th class=\"col_heading level0 col1\" >as</th>        <th class=\"col_heading level0 col2\" >Documentation</th>        <th class=\"col_heading level0 col3\" >Version</th>    </tr></thead><tbody>\n",
       "                <tr>\n",
       "                                <td id=\"T_94c07506_10d1_11ec_9d80_acde48001122row0_col0\" class=\"data row0 col0\" >pandas</td>\n",
       "                        <td id=\"T_94c07506_10d1_11ec_9d80_acde48001122row0_col1\" class=\"data row0 col1\" >pd</td>\n",
       "                        <td id=\"T_94c07506_10d1_11ec_9d80_acde48001122row0_col2\" class=\"data row0 col2\" ><a href=\"https://pandas.pydata.org/docs/\">https://pandas.pydata.org/docs/</a></td>\n",
       "                        <td id=\"T_94c07506_10d1_11ec_9d80_acde48001122row0_col3\" class=\"data row0 col3\" >1.1.3</td>\n",
       "            </tr>\n",
       "            <tr>\n",
       "                                <td id=\"T_94c07506_10d1_11ec_9d80_acde48001122row1_col0\" class=\"data row1 col0\" >fsds</td>\n",
       "                        <td id=\"T_94c07506_10d1_11ec_9d80_acde48001122row1_col1\" class=\"data row1 col1\" >fs</td>\n",
       "                        <td id=\"T_94c07506_10d1_11ec_9d80_acde48001122row1_col2\" class=\"data row1 col2\" ><a href=\"https://fs-ds.readthedocs.io/en/latest/\">https://fs-ds.readthedocs.io/en/latest/</a></td>\n",
       "                        <td id=\"T_94c07506_10d1_11ec_9d80_acde48001122row1_col3\" class=\"data row1 col3\" >[!]</td>\n",
       "            </tr>\n",
       "            <tr>\n",
       "                                <td id=\"T_94c07506_10d1_11ec_9d80_acde48001122row2_col0\" class=\"data row2 col0\" >numpy</td>\n",
       "                        <td id=\"T_94c07506_10d1_11ec_9d80_acde48001122row2_col1\" class=\"data row2 col1\" >np</td>\n",
       "                        <td id=\"T_94c07506_10d1_11ec_9d80_acde48001122row2_col2\" class=\"data row2 col2\" ><a href=\"https://numpy.org/doc/stable/reference/\">https://numpy.org/doc/stable/reference/</a></td>\n",
       "                        <td id=\"T_94c07506_10d1_11ec_9d80_acde48001122row2_col3\" class=\"data row2 col3\" >1.19.5</td>\n",
       "            </tr>\n",
       "            <tr>\n",
       "                                <td id=\"T_94c07506_10d1_11ec_9d80_acde48001122row3_col0\" class=\"data row3 col0\" >matplotlib</td>\n",
       "                        <td id=\"T_94c07506_10d1_11ec_9d80_acde48001122row3_col1\" class=\"data row3 col1\" >mpl</td>\n",
       "                        <td id=\"T_94c07506_10d1_11ec_9d80_acde48001122row3_col2\" class=\"data row3 col2\" ><a href=\"https://matplotlib.org/stable/api/index.html\">https://matplotlib.org/stable/api/index.html</a></td>\n",
       "                        <td id=\"T_94c07506_10d1_11ec_9d80_acde48001122row3_col3\" class=\"data row3 col3\" >3.3.1</td>\n",
       "            </tr>\n",
       "            <tr>\n",
       "                                <td id=\"T_94c07506_10d1_11ec_9d80_acde48001122row4_col0\" class=\"data row4 col0\" >matplotlib.pyplot</td>\n",
       "                        <td id=\"T_94c07506_10d1_11ec_9d80_acde48001122row4_col1\" class=\"data row4 col1\" >plt</td>\n",
       "                        <td id=\"T_94c07506_10d1_11ec_9d80_acde48001122row4_col2\" class=\"data row4 col2\" ><a href=\"https://matplotlib.org/stable/api/_as_gen/matplotlib.pyplot.html#module-matplotlib.pyplot\">https://matplotlib.org/stable/api/_as_gen/matplotlib.pyplot.html#module-matplotlib.pyplot</a></td>\n",
       "                        <td id=\"T_94c07506_10d1_11ec_9d80_acde48001122row4_col3\" class=\"data row4 col3\" > - </td>\n",
       "            </tr>\n",
       "            <tr>\n",
       "                                <td id=\"T_94c07506_10d1_11ec_9d80_acde48001122row5_col0\" class=\"data row5 col0\" >seaborn</td>\n",
       "                        <td id=\"T_94c07506_10d1_11ec_9d80_acde48001122row5_col1\" class=\"data row5 col1\" >sns</td>\n",
       "                        <td id=\"T_94c07506_10d1_11ec_9d80_acde48001122row5_col2\" class=\"data row5 col2\" ><a href=\"https://seaborn.pydata.org/api.html\">https://seaborn.pydata.org/api.html</a></td>\n",
       "                        <td id=\"T_94c07506_10d1_11ec_9d80_acde48001122row5_col3\" class=\"data row5 col3\" >0.11.0</td>\n",
       "            </tr>\n",
       "            <tr>\n",
       "                                <td id=\"T_94c07506_10d1_11ec_9d80_acde48001122row6_col0\" class=\"data row6 col0\" >IPython.display</td>\n",
       "                        <td id=\"T_94c07506_10d1_11ec_9d80_acde48001122row6_col1\" class=\"data row6 col1\" >dp</td>\n",
       "                        <td id=\"T_94c07506_10d1_11ec_9d80_acde48001122row6_col2\" class=\"data row6 col2\" ><a href=\"https://ipython.readthedocs.io/en/stable/api/generated/IPython.display.html\">https://ipython.readthedocs.io/en/stable/api/generated/IPython.display.html</a></td>\n",
       "                        <td id=\"T_94c07506_10d1_11ec_9d80_acde48001122row6_col3\" class=\"data row6 col3\" > - </td>\n",
       "            </tr>\n",
       "            <tr>\n",
       "                                <td id=\"T_94c07506_10d1_11ec_9d80_acde48001122row7_col0\" class=\"data row7 col0\" >sklearn</td>\n",
       "                        <td id=\"T_94c07506_10d1_11ec_9d80_acde48001122row7_col1\" class=\"data row7 col1\" > - </td>\n",
       "                        <td id=\"T_94c07506_10d1_11ec_9d80_acde48001122row7_col2\" class=\"data row7 col2\" ><a href=\" - \"> - </a></td>\n",
       "                        <td id=\"T_94c07506_10d1_11ec_9d80_acde48001122row7_col3\" class=\"data row7 col3\" >0.23.2</td>\n",
       "            </tr>\n",
       "    </tbody></table>"
      ],
      "text/plain": [
       "<pandas.io.formats.style.Styler at 0x7fcf8186c1c0>"
      ]
     },
     "metadata": {}
    }
   ],
   "metadata": {}
  },
  {
   "cell_type": "code",
   "execution_count": null,
   "source": [
    "import fsds\r\n",
    "fsds.__version__"
   ],
   "outputs": [
    {
     "output_type": "error",
     "ename": "AttributeError",
     "evalue": "module 'fsds' has no attribute '__version__'",
     "traceback": [
      "\u001b[0;31m---------------------------------------------------------------------------\u001b[0m",
      "\u001b[0;31mAttributeError\u001b[0m                            Traceback (most recent call last)",
      "\u001b[0;32m<ipython-input-15-179392242d22>\u001b[0m in \u001b[0;36m<module>\u001b[0;34m\u001b[0m\n\u001b[1;32m      1\u001b[0m \u001b[0;32mimport\u001b[0m \u001b[0mfsds\u001b[0m\u001b[0;34m\u001b[0m\u001b[0;34m\u001b[0m\u001b[0m\n\u001b[0;32m----> 2\u001b[0;31m \u001b[0mfsds\u001b[0m\u001b[0;34m.\u001b[0m\u001b[0m__version__\u001b[0m\u001b[0;34m\u001b[0m\u001b[0;34m\u001b[0m\u001b[0m\n\u001b[0m",
      "\u001b[0;31mAttributeError\u001b[0m: module 'fsds' has no attribute '__version__'"
     ]
    }
   ],
   "metadata": {}
  },
  {
   "cell_type": "markdown",
   "source": [
    "## Making Helper function"
   ],
   "metadata": {}
  },
  {
   "cell_type": "code",
   "execution_count": null,
   "source": [
    "def global_imports(modulename,shortname = None, asfunction = False,check_vers=True):\r\n",
    "        \"\"\"from stackoverflow: https://stackoverflow.com/questions/11990556/how-to-make-global-imports-from-a-function,\r\n",
    "        https://stackoverflow.com/a/46878490\"\"\"\r\n",
    "        from importlib import import_module\r\n",
    "\r\n",
    "        if shortname is None:\r\n",
    "            shortname = modulename\r\n",
    "\r\n",
    "        if asfunction is False:\r\n",
    "            globals()[shortname] = import_module(modulename) #__import__(modulename)\r\n",
    "        else:\r\n",
    "            globals()[shortname] = eval(modulename + \".\" + shortname)\r\n",
    "            \r\n",
    "        if check_vers:\r\n",
    "            return globals()[shortname].__version__"
   ],
   "outputs": [],
   "metadata": {}
  },
  {
   "cell_type": "code",
   "execution_count": null,
   "source": [
    "check_package_versions = ['matplotlib','seaborn','pandas','numpy','sklearn'] "
   ],
   "outputs": [],
   "metadata": {}
  },
  {
   "cell_type": "code",
   "execution_count": null,
   "source": [
    "import pandas as pd\n",
    "def check_package_versions(packages = ['matplotlib','seaborn','pandas','numpy','sklearn'] ):\n",
    "    \"\"\"SEEE TESTING NOTEBOOK\"\"\"\n",
    "    version_list = [['Package','Version']]\n",
    "    \n",
    "    for package in packages:\n",
    "        if '.' not in package:\n",
    "            vers = global_imports(package,None,check_vers=True)\n",
    "            version_list.append([package,vers])\n",
    "            \n",
    "    pkg_vers_df = pd.DataFrame(version_list[1:],columns=version_list[0])\n",
    "    return pkg_vers_df"
   ],
   "outputs": [],
   "metadata": {}
  },
  {
   "cell_type": "code",
   "execution_count": null,
   "source": [
    "check_package_versions()"
   ],
   "outputs": [
    {
     "output_type": "execute_result",
     "data": {
      "text/html": [
       "<div>\n",
       "<style scoped>\n",
       "    .dataframe tbody tr th:only-of-type {\n",
       "        vertical-align: middle;\n",
       "    }\n",
       "\n",
       "    .dataframe tbody tr th {\n",
       "        vertical-align: top;\n",
       "    }\n",
       "\n",
       "    .dataframe thead th {\n",
       "        text-align: right;\n",
       "    }\n",
       "</style>\n",
       "<table border=\"1\" class=\"dataframe\">\n",
       "  <thead>\n",
       "    <tr style=\"text-align: right;\">\n",
       "      <th></th>\n",
       "      <th>Package</th>\n",
       "      <th>Version</th>\n",
       "    </tr>\n",
       "  </thead>\n",
       "  <tbody>\n",
       "    <tr>\n",
       "      <th>0</th>\n",
       "      <td>matplotlib</td>\n",
       "      <td>3.3.1</td>\n",
       "    </tr>\n",
       "    <tr>\n",
       "      <th>1</th>\n",
       "      <td>seaborn</td>\n",
       "      <td>0.11.0</td>\n",
       "    </tr>\n",
       "    <tr>\n",
       "      <th>2</th>\n",
       "      <td>pandas</td>\n",
       "      <td>1.1.3</td>\n",
       "    </tr>\n",
       "    <tr>\n",
       "      <th>3</th>\n",
       "      <td>numpy</td>\n",
       "      <td>1.19.5</td>\n",
       "    </tr>\n",
       "    <tr>\n",
       "      <th>4</th>\n",
       "      <td>sklearn</td>\n",
       "      <td>0.23.2</td>\n",
       "    </tr>\n",
       "  </tbody>\n",
       "</table>\n",
       "</div>"
      ],
      "text/plain": [
       "      Package Version\n",
       "0  matplotlib   3.3.1\n",
       "1     seaborn  0.11.0\n",
       "2      pandas   1.1.3\n",
       "3       numpy  1.19.5\n",
       "4     sklearn  0.23.2"
      ]
     },
     "metadata": {},
     "execution_count": 15
    }
   ],
   "metadata": {}
  },
  {
   "cell_type": "code",
   "execution_count": null,
   "source": [],
   "outputs": [],
   "metadata": {}
  }
 ],
 "metadata": {
  "file_extension": ".py",
  "interpreter": {
   "hash": "d4ee54a7a1a3d6313f7022693829fc241b5d1c7717b3f2cba452af057cd41f6d"
  },
  "kernelspec": {
   "name": "python3",
   "display_name": "Python 3.8.5 64-bit ('learn-env-py38': conda)"
  },
  "language_info": {
   "codemirror_mode": {
    "name": "ipython",
    "version": 3
   },
   "file_extension": ".py",
   "mimetype": "text/x-python",
   "name": "python",
   "nbconvert_exporter": "python",
   "pygments_lexer": "ipython3",
   "version": "3.8.5"
  },
  "mimetype": "text/x-python",
  "name": "python",
  "npconvert_exporter": "python",
  "pygments_lexer": "ipython3",
  "toc": {
   "base_numbering": 1,
   "nav_menu": {},
   "number_sections": true,
   "sideBar": true,
   "skip_h1_title": false,
   "title_cell": "Table of Contents",
   "title_sidebar": "Contents",
   "toc_cell": false,
   "toc_position": {},
   "toc_section_display": true,
   "toc_window_display": false
  },
  "version": 3
 },
 "nbformat": 4,
 "nbformat_minor": 2
}