{
 "nbformat": 4,
 "nbformat_minor": 2,
 "metadata": {
  "language_info": {
   "name": "python",
   "version": "3.8.5",
   "mimetype": "text/x-python",
   "codemirror_mode": {
    "name": "ipython",
    "version": 3
   },
   "pygments_lexer": "ipython3",
   "nbconvert_exporter": "python",
   "file_extension": ".py"
  },
  "orig_nbformat": 2,
  "file_extension": ".py",
  "mimetype": "text/x-python",
  "name": "python",
  "npconvert_exporter": "python",
  "pygments_lexer": "ipython3",
  "version": 3,
  "kernelspec": {
   "name": "python3",
   "display_name": "Python 3.8.5 64-bit ('learn-env': conda)"
  },
  "interpreter": {
   "hash": "c15d3b161d9e31d3c14101c293414707f40e59d6cae0bbd6b708ca3d1e942f6f"
  }
 },
 "cells": [
  {
   "cell_type": "code",
   "execution_count": null,
   "source": [],
   "outputs": [],
   "metadata": {}
  },
  {
   "cell_type": "markdown",
   "source": [
    "# Teasting "
   ],
   "metadata": {}
  },
  {
   "cell_type": "code",
   "execution_count": 1,
   "source": [
    "from imports_WIP import *"
   ],
   "outputs": [
    {
     "output_type": "display_data",
     "data": {
      "text/html": [
       "<style  type=\"text/css\" >\n",
       "</style><table id=\"T_050367ee_10c6_11ec_94d8_acde48001122\" ><caption>Loaded Packages and Handles</caption><thead>    <tr>        <th class=\"col_heading level0 col0\" >Handle</th>        <th class=\"col_heading level0 col1\" >Package</th>        <th class=\"col_heading level0 col2\" >Version</th>        <th class=\"col_heading level0 col3\" >Description</th>    </tr></thead><tbody>\n",
       "                <tr>\n",
       "                                <td id=\"T_050367ee_10c6_11ec_94d8_acde48001122row0_col0\" class=\"data row0 col0\" >pd</td>\n",
       "                        <td id=\"T_050367ee_10c6_11ec_94d8_acde48001122row0_col1\" class=\"data row0 col1\" >pandas</td>\n",
       "                        <td id=\"T_050367ee_10c6_11ec_94d8_acde48001122row0_col2\" class=\"data row0 col2\" >1.1.3</td>\n",
       "                        <td id=\"T_050367ee_10c6_11ec_94d8_acde48001122row0_col3\" class=\"data row0 col3\" >High performance data structures and tools</td>\n",
       "            </tr>\n",
       "            <tr>\n",
       "                                <td id=\"T_050367ee_10c6_11ec_94d8_acde48001122row1_col0\" class=\"data row1 col0\" >fs</td>\n",
       "                        <td id=\"T_050367ee_10c6_11ec_94d8_acde48001122row1_col1\" class=\"data row1 col1\" >fsds</td>\n",
       "                        <td id=\"T_050367ee_10c6_11ec_94d8_acde48001122row1_col2\" class=\"data row1 col2\" ></td>\n",
       "                        <td id=\"T_050367ee_10c6_11ec_94d8_acde48001122row1_col3\" class=\"data row1 col3\" >Custom data science bootcamp student package</td>\n",
       "            </tr>\n",
       "            <tr>\n",
       "                                <td id=\"T_050367ee_10c6_11ec_94d8_acde48001122row2_col0\" class=\"data row2 col0\" >np</td>\n",
       "                        <td id=\"T_050367ee_10c6_11ec_94d8_acde48001122row2_col1\" class=\"data row2 col1\" >numpy</td>\n",
       "                        <td id=\"T_050367ee_10c6_11ec_94d8_acde48001122row2_col2\" class=\"data row2 col2\" >1.19.5</td>\n",
       "                        <td id=\"T_050367ee_10c6_11ec_94d8_acde48001122row2_col3\" class=\"data row2 col3\" >scientific computing with Python</td>\n",
       "            </tr>\n",
       "            <tr>\n",
       "                                <td id=\"T_050367ee_10c6_11ec_94d8_acde48001122row3_col0\" class=\"data row3 col0\" >mpl</td>\n",
       "                        <td id=\"T_050367ee_10c6_11ec_94d8_acde48001122row3_col1\" class=\"data row3 col1\" >matplotlib</td>\n",
       "                        <td id=\"T_050367ee_10c6_11ec_94d8_acde48001122row3_col2\" class=\"data row3 col2\" >3.3.1</td>\n",
       "                        <td id=\"T_050367ee_10c6_11ec_94d8_acde48001122row3_col3\" class=\"data row3 col3\" >Matplotlib's base OOP module with formatting artists</td>\n",
       "            </tr>\n",
       "            <tr>\n",
       "                                <td id=\"T_050367ee_10c6_11ec_94d8_acde48001122row4_col0\" class=\"data row4 col0\" >plt</td>\n",
       "                        <td id=\"T_050367ee_10c6_11ec_94d8_acde48001122row4_col1\" class=\"data row4 col1\" >matplotlib.pyplot</td>\n",
       "                        <td id=\"T_050367ee_10c6_11ec_94d8_acde48001122row4_col2\" class=\"data row4 col2\" ></td>\n",
       "                        <td id=\"T_050367ee_10c6_11ec_94d8_acde48001122row4_col3\" class=\"data row4 col3\" >Matplotlib's matlab-like plotting module</td>\n",
       "            </tr>\n",
       "            <tr>\n",
       "                                <td id=\"T_050367ee_10c6_11ec_94d8_acde48001122row5_col0\" class=\"data row5 col0\" >sns</td>\n",
       "                        <td id=\"T_050367ee_10c6_11ec_94d8_acde48001122row5_col1\" class=\"data row5 col1\" >seaborn</td>\n",
       "                        <td id=\"T_050367ee_10c6_11ec_94d8_acde48001122row5_col2\" class=\"data row5 col2\" >0.11.0</td>\n",
       "                        <td id=\"T_050367ee_10c6_11ec_94d8_acde48001122row5_col3\" class=\"data row5 col3\" >High-level data visualization library based on matplotlib</td>\n",
       "            </tr>\n",
       "            <tr>\n",
       "                                <td id=\"T_050367ee_10c6_11ec_94d8_acde48001122row6_col0\" class=\"data row6 col0\" >dp</td>\n",
       "                        <td id=\"T_050367ee_10c6_11ec_94d8_acde48001122row6_col1\" class=\"data row6 col1\" >IPython.display</td>\n",
       "                        <td id=\"T_050367ee_10c6_11ec_94d8_acde48001122row6_col2\" class=\"data row6 col2\" ></td>\n",
       "                        <td id=\"T_050367ee_10c6_11ec_94d8_acde48001122row6_col3\" class=\"data row6 col3\" >Display modules with helpful display and clearing commands.</td>\n",
       "            </tr>\n",
       "            <tr>\n",
       "                                <td id=\"T_050367ee_10c6_11ec_94d8_acde48001122row7_col0\" class=\"data row7 col0\" ></td>\n",
       "                        <td id=\"T_050367ee_10c6_11ec_94d8_acde48001122row7_col1\" class=\"data row7 col1\" >sklearn</td>\n",
       "                        <td id=\"T_050367ee_10c6_11ec_94d8_acde48001122row7_col2\" class=\"data row7 col2\" >0.23.2</td>\n",
       "                        <td id=\"T_050367ee_10c6_11ec_94d8_acde48001122row7_col3\" class=\"data row7 col3\" ></td>\n",
       "            </tr>\n",
       "    </tbody></table>"
      ],
      "text/plain": [
       "<pandas.io.formats.style.Styler at 0x7f90b86e7a90>"
      ]
     },
     "metadata": {}
    }
   ],
   "metadata": {}
  },
  {
   "cell_type": "code",
   "execution_count": 15,
   "source": [
    "import fsds\n",
    "fsds.__version__"
   ],
   "outputs": [
    {
     "output_type": "error",
     "ename": "AttributeError",
     "evalue": "module 'fsds' has no attribute '__version__'",
     "traceback": [
      "\u001b[0;31m---------------------------------------------------------------------------\u001b[0m",
      "\u001b[0;31mAttributeError\u001b[0m                            Traceback (most recent call last)",
      "\u001b[0;32m<ipython-input-15-179392242d22>\u001b[0m in \u001b[0;36m<module>\u001b[0;34m\u001b[0m\n\u001b[1;32m      1\u001b[0m \u001b[0;32mimport\u001b[0m \u001b[0mfsds\u001b[0m\u001b[0;34m\u001b[0m\u001b[0;34m\u001b[0m\u001b[0m\n\u001b[0;32m----> 2\u001b[0;31m \u001b[0mfsds\u001b[0m\u001b[0;34m.\u001b[0m\u001b[0m__version__\u001b[0m\u001b[0;34m\u001b[0m\u001b[0;34m\u001b[0m\u001b[0m\n\u001b[0m",
      "\u001b[0;31mAttributeError\u001b[0m: module 'fsds' has no attribute '__version__'"
     ]
    }
   ],
   "metadata": {}
  },
  {
   "cell_type": "markdown",
   "source": [
    "## Making Helper function"
   ],
   "metadata": {}
  },
  {
   "cell_type": "code",
   "execution_count": null,
   "source": [
    "def global_imports(modulename,shortname = None, asfunction = False,check_vers=True):\n",
    "        \"\"\"from stackoverflow: https://stackoverflow.com/questions/11990556/how-to-make-global-imports-from-a-function,\n",
    "        https://stackoverflow.com/a/46878490\"\"\"\n",
    "        from importlib import import_module\n",
    "\n",
    "        if shortname is None:\n",
    "            shortname = modulename\n",
    "\n",
    "        if asfunction is False:\n",
    "            globals()[shortname] = import_module(modulename) #__import__(modulename)\n",
    "        else:\n",
    "            globals()[shortname] = eval(modulename + \".\" + shortname)\n",
    "            \n",
    "        if check_vers:\n",
    "            return globals()[shortname].__version__"
   ],
   "outputs": [],
   "metadata": {}
  },
  {
   "cell_type": "code",
   "execution_count": null,
   "source": [
    "check_package_versions = ['matplotlib','seaborn','pandas','numpy','sklearn'] "
   ],
   "outputs": [],
   "metadata": {}
  },
  {
   "cell_type": "code",
   "execution_count": 14,
   "source": [
    "import pandas as pd\n",
    "def check_package_versions(packages = ['matplotlib','seaborn','pandas','numpy','sklearn'] ):\n",
    "    \"\"\"SEEE TESTING NOTEBOOK\"\"\"\n",
    "    version_list = [['Package','Version']]\n",
    "    \n",
    "    for package in packages:\n",
    "        if '.' not in package:\n",
    "            vers = global_imports(package,None,check_vers=True)\n",
    "            version_list.append([package,vers])\n",
    "            \n",
    "    pkg_vers_df = pd.DataFrame(version_list[1:],columns=version_list[0])\n",
    "    return pkg_vers_df"
   ],
   "outputs": [],
   "metadata": {}
  },
  {
   "cell_type": "code",
   "execution_count": 15,
   "source": [
    "check_package_versions()"
   ],
   "outputs": [
    {
     "output_type": "execute_result",
     "data": {
      "text/html": [
       "<div>\n",
       "<style scoped>\n",
       "    .dataframe tbody tr th:only-of-type {\n",
       "        vertical-align: middle;\n",
       "    }\n",
       "\n",
       "    .dataframe tbody tr th {\n",
       "        vertical-align: top;\n",
       "    }\n",
       "\n",
       "    .dataframe thead th {\n",
       "        text-align: right;\n",
       "    }\n",
       "</style>\n",
       "<table border=\"1\" class=\"dataframe\">\n",
       "  <thead>\n",
       "    <tr style=\"text-align: right;\">\n",
       "      <th></th>\n",
       "      <th>Package</th>\n",
       "      <th>Version</th>\n",
       "    </tr>\n",
       "  </thead>\n",
       "  <tbody>\n",
       "    <tr>\n",
       "      <th>0</th>\n",
       "      <td>matplotlib</td>\n",
       "      <td>3.3.1</td>\n",
       "    </tr>\n",
       "    <tr>\n",
       "      <th>1</th>\n",
       "      <td>seaborn</td>\n",
       "      <td>0.11.0</td>\n",
       "    </tr>\n",
       "    <tr>\n",
       "      <th>2</th>\n",
       "      <td>pandas</td>\n",
       "      <td>1.1.3</td>\n",
       "    </tr>\n",
       "    <tr>\n",
       "      <th>3</th>\n",
       "      <td>numpy</td>\n",
       "      <td>1.19.5</td>\n",
       "    </tr>\n",
       "    <tr>\n",
       "      <th>4</th>\n",
       "      <td>sklearn</td>\n",
       "      <td>0.23.2</td>\n",
       "    </tr>\n",
       "  </tbody>\n",
       "</table>\n",
       "</div>"
      ],
      "text/plain": [
       "      Package Version\n",
       "0  matplotlib   3.3.1\n",
       "1     seaborn  0.11.0\n",
       "2      pandas   1.1.3\n",
       "3       numpy  1.19.5\n",
       "4     sklearn  0.23.2"
      ]
     },
     "metadata": {},
     "execution_count": 15
    }
   ],
   "metadata": {}
  },
  {
   "cell_type": "code",
   "execution_count": null,
   "source": [],
   "outputs": [],
   "metadata": {}
  }
 ]
}